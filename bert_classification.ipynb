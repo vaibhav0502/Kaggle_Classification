{
  "nbformat": 4,
  "nbformat_minor": 0,
  "metadata": {
    "colab": {
      "provenance": [],
      "toc_visible": true,
      "gpuType": "T4"
    },
    "kernelspec": {
      "name": "python3",
      "display_name": "Python 3"
    },
    "language_info": {
      "name": "python"
    },
    "gpuClass": "standard",
    "accelerator": "GPU"
  },
  "cells": [
    {
      "cell_type": "code",
      "source": [
        "!pip install transformers"
      ],
      "metadata": {
        "colab": {
          "base_uri": "https://localhost:8080/"
        },
        "id": "cGwzcjaaph5c",
        "outputId": "9b5fa924-735e-40a0-993c-6257f6723b1a"
      },
      "execution_count": 1,
      "outputs": [
        {
          "output_type": "stream",
          "name": "stdout",
          "text": [
            "Looking in indexes: https://pypi.org/simple, https://us-python.pkg.dev/colab-wheels/public/simple/\n",
            "Requirement already satisfied: transformers in /usr/local/lib/python3.10/dist-packages (4.29.2)\n",
            "Requirement already satisfied: filelock in /usr/local/lib/python3.10/dist-packages (from transformers) (3.12.0)\n",
            "Requirement already satisfied: huggingface-hub<1.0,>=0.14.1 in /usr/local/lib/python3.10/dist-packages (from transformers) (0.14.1)\n",
            "Requirement already satisfied: numpy>=1.17 in /usr/local/lib/python3.10/dist-packages (from transformers) (1.22.4)\n",
            "Requirement already satisfied: packaging>=20.0 in /usr/local/lib/python3.10/dist-packages (from transformers) (23.1)\n",
            "Requirement already satisfied: pyyaml>=5.1 in /usr/local/lib/python3.10/dist-packages (from transformers) (6.0)\n",
            "Requirement already satisfied: regex!=2019.12.17 in /usr/local/lib/python3.10/dist-packages (from transformers) (2022.10.31)\n",
            "Requirement already satisfied: requests in /usr/local/lib/python3.10/dist-packages (from transformers) (2.27.1)\n",
            "Requirement already satisfied: tokenizers!=0.11.3,<0.14,>=0.11.1 in /usr/local/lib/python3.10/dist-packages (from transformers) (0.13.3)\n",
            "Requirement already satisfied: tqdm>=4.27 in /usr/local/lib/python3.10/dist-packages (from transformers) (4.65.0)\n",
            "Requirement already satisfied: fsspec in /usr/local/lib/python3.10/dist-packages (from huggingface-hub<1.0,>=0.14.1->transformers) (2023.4.0)\n",
            "Requirement already satisfied: typing-extensions>=3.7.4.3 in /usr/local/lib/python3.10/dist-packages (from huggingface-hub<1.0,>=0.14.1->transformers) (4.5.0)\n",
            "Requirement already satisfied: urllib3<1.27,>=1.21.1 in /usr/local/lib/python3.10/dist-packages (from requests->transformers) (1.26.15)\n",
            "Requirement already satisfied: certifi>=2017.4.17 in /usr/local/lib/python3.10/dist-packages (from requests->transformers) (2022.12.7)\n",
            "Requirement already satisfied: charset-normalizer~=2.0.0 in /usr/local/lib/python3.10/dist-packages (from requests->transformers) (2.0.12)\n",
            "Requirement already satisfied: idna<4,>=2.5 in /usr/local/lib/python3.10/dist-packages (from requests->transformers) (3.4)\n"
          ]
        }
      ]
    },
    {
      "cell_type": "markdown",
      "source": [
        "## Imports"
      ],
      "metadata": {
        "id": "ha_rl-p35JjL"
      }
    },
    {
      "cell_type": "code",
      "source": [
        "import os\n",
        "import time\n",
        "import random\n",
        "from collections import defaultdict\n",
        "import pandas as pd\n",
        "import numpy as np\n",
        "import matplotlib.pyplot as plt\n",
        "import seaborn as sns\n",
        "\n",
        "from tqdm import tqdm\n",
        "\n",
        "import warnings\n",
        "warnings.filterwarnings(\"ignore\")\n",
        "\n",
        "from sklearn.model_selection import train_test_split\n",
        "from sklearn.metrics import confusion_matrix, classification_report\n",
        "from sklearn import metrics\n"
      ],
      "metadata": {
        "id": "rcy8mQONv-Y2"
      },
      "execution_count": 2,
      "outputs": []
    },
    {
      "cell_type": "code",
      "execution_count": 3,
      "metadata": {
        "id": "ZqK7PxDHoUHQ"
      },
      "outputs": [],
      "source": [
        "import torch\n",
        "import torch.nn as nn\n",
        "from torch import cuda\n",
        "from torch.utils.data import Dataset, DataLoader\n",
        "import transformers\n",
        "from transformers import BertModel, BertTokenizer, AdamW, get_linear_schedule_with_warmup"
      ]
    },
    {
      "cell_type": "markdown",
      "source": [
        "## Config"
      ],
      "metadata": {
        "id": "qsvCWl5LoYzM"
      }
    },
    {
      "cell_type": "code",
      "source": [
        "device = 'cuda' if cuda.is_available() else 'cpu'\n",
        "RANDOM_SEED = 42\n",
        "np.random.seed(RANDOM_SEED)\n",
        "torch.manual_seed(RANDOM_SEED)"
      ],
      "metadata": {
        "colab": {
          "base_uri": "https://localhost:8080/"
        },
        "id": "bcX30uqDvfLf",
        "outputId": "162fa9f5-ae87-4f8f-9d22-4fde153962e8"
      },
      "execution_count": 4,
      "outputs": [
        {
          "output_type": "execute_result",
          "data": {
            "text/plain": [
              "<torch._C.Generator at 0x7fa0fe7c6910>"
            ]
          },
          "metadata": {},
          "execution_count": 4
        }
      ]
    },
    {
      "cell_type": "code",
      "source": [
        "CONFIG = {\n",
        "    \"DEVICE\": device,\n",
        "    \"MAX_LEN\": 64,\n",
        "    \"TRAIN_BATCH_SIZE\": 32,\n",
        "    \"VALID_BATCH_SIZE\": 16,\n",
        "    \"EPOCHS\": 4,\n",
        "    \"BERT_PATH\": \"bert-base-uncased\",\n",
        "    \"MODEL_PATH\": \"model_amazon.bin\",\n",
        "    \"TRAINING_FILE\": \"/content/drive/MyDrive/Colab Notebooks/NLP/NER/bert-entity-extraction/bert_class/train.csv\",\n",
        "    \"OG_TRAINING_FILE\": \"/content/drive/MyDrive/Colab Notebooks/NLP/NER/bert-entity-extraction/bert_class/train.csv\"\n",
        "}\n",
        "#  final_clean_ama.csv"
      ],
      "metadata": {
        "id": "M8TpcZ3kovc_"
      },
      "execution_count": 5,
      "outputs": []
    },
    {
      "cell_type": "code",
      "source": [
        "%cd \"/content/drive/MyDrive/Colab Notebooks/NLP/NER/bert-entity-extraction/bert_class\""
      ],
      "metadata": {
        "colab": {
          "base_uri": "https://localhost:8080/"
        },
        "id": "u98oBM8s1JOS",
        "outputId": "d2c2b32a-8104-4d22-8803-f67ae64d0c50"
      },
      "execution_count": 6,
      "outputs": [
        {
          "output_type": "stream",
          "name": "stdout",
          "text": [
            "/content/drive/MyDrive/Colab Notebooks/NLP/NER/bert-entity-extraction/bert_class\n"
          ]
        }
      ]
    },
    {
      "cell_type": "code",
      "source": [
        "CONFIG[\"TOKENIZER\"] = transformers.BertTokenizer.from_pretrained(\"bert-base-uncased\", do_lower_case=True)"
      ],
      "metadata": {
        "id": "IVPukIpOzg-W"
      },
      "execution_count": 8,
      "outputs": []
    },
    {
      "cell_type": "markdown",
      "source": [
        "## Dataset"
      ],
      "metadata": {
        "id": "lIHfJUyDoY26"
      }
    },
    {
      "cell_type": "markdown",
      "source": [
        "### LoadDataset"
      ],
      "metadata": {
        "id": "zNbq5bury1qQ"
      }
    },
    {
      "cell_type": "code",
      "source": [
        "class LoadDataset():\n",
        "    def __init__(self, df=None):\n",
        "        if not df.empty:\n",
        "            self.df = df\n",
        "        else:\n",
        "            self.df = pd.read_csv(CONFIG['TRAINING_FILE'])\n",
        "\n",
        "    def get_dataset(self, test=False):\n",
        "        if test:\n",
        "            df_train, df_test = train_test_split(\n",
        "                self.df, test_size=0.1, random_state=RANDOM_SEED)\n",
        "\n",
        "            df_val, df_test = train_test_split(\n",
        "                df_test, test_size=0.5, random_state=RANDOM_SEED)\n",
        "\n",
        "            return df_train, df_val, df_test\n",
        "        else:\n",
        "            df_train, df_val = train_test_split(\n",
        "                self.df, test_size=0.2, random_state=RANDOM_SEED)\n",
        "\n",
        "            return df_train, df_val"
      ],
      "metadata": {
        "id": "2j_8wwPKvVsP"
      },
      "execution_count": 9,
      "outputs": []
    },
    {
      "cell_type": "markdown",
      "source": [
        "### BERTDataset and BERTDataLoader"
      ],
      "metadata": {
        "id": "syz4fMZGy9xZ"
      }
    },
    {
      "cell_type": "code",
      "source": [
        "class BERTDataset(Dataset):\n",
        "\n",
        "    def __init__(self, texts, targets):\n",
        "        self.texts = texts\n",
        "        self.targets = targets\n",
        "        self.tokenizer = CONFIG['TOKENIZER']\n",
        "        self.max_len = CONFIG['MAX_LEN']\n",
        "\n",
        "    def __len__(self):\n",
        "        return len(self.texts)\n",
        "\n",
        "    def __getitem__(self, item):\n",
        "        text = str(self.texts[item])\n",
        "        target = self.targets[item]\n",
        "\n",
        "        encoding = self.tokenizer.encode_plus(\n",
        "            text,\n",
        "            add_special_tokens=True,\n",
        "            max_length=self.max_len,\n",
        "            pad_to_max_length=True,\n",
        "            return_token_type_ids=True,\n",
        "            return_attention_mask=True,\n",
        "            return_tensors='pt',\n",
        "            truncation=True\n",
        "        )\n",
        "\n",
        "        return {\n",
        "            'text_text': text,\n",
        "            'input_ids': encoding['input_ids'].flatten(),\n",
        "            'attention_mask': encoding['attention_mask'].flatten(),\n",
        "            \"token_type_ids\": encoding['token_type_ids'].flatten(),\n",
        "            'targets': torch.tensor(target, dtype=torch.float)\n",
        "        }\n",
        "\n",
        "\n",
        "class BERTDataLoader():\n",
        "\n",
        "    def create_data_loader(self, df, batch_size):\n",
        "        bert_dataset = BERTDataset(\n",
        "            texts=df['text'].to_numpy(),\n",
        "            targets=df['target'].to_numpy()\n",
        "        )\n",
        "\n",
        "        return DataLoader(bert_dataset, batch_size=batch_size, num_workers=4)"
      ],
      "metadata": {
        "id": "s7zmRgbUoY8f"
      },
      "execution_count": 10,
      "outputs": []
    },
    {
      "cell_type": "code",
      "source": [
        "# df_train, df_val = LoadDataset().get_dataset()\n",
        "# df_train.shape, df_val.shape\n",
        "\n",
        "# data_loader_obj = BERTDataLoader()\n",
        "\n",
        "# train_data_loader = data_loader_obj.create_data_loader(df_train, CONFIG['TRAIN_BATCH_SIZE'])\n",
        "# val_data_loader = data_loader_obj.create_data_loader(df_val, CONFIG['VALID_BATCH_SIZE'])\n",
        "# # test_data_loader = data_loader_obj.create_data_loader(df_test,  CONFIG['VALID_BATCH_SIZE'])\n"
      ],
      "metadata": {
        "id": "NDG43N_42rvp"
      },
      "execution_count": 11,
      "outputs": []
    },
    {
      "cell_type": "markdown",
      "source": [
        "## Model"
      ],
      "metadata": {
        "id": "kPodiJN72MSx"
      }
    },
    {
      "cell_type": "code",
      "source": [
        "class BERTBaseUncased(nn.Module):\n",
        "\n",
        "    def __init__(self):\n",
        "        super(BERTBaseUncased, self).__init__()\n",
        "        self.bert = transformers.BertModel.from_pretrained(CONFIG['BERT_PATH'])\n",
        "        self.drop = nn.Dropout(0.3)\n",
        "        # self.out = nn.Linear(768, 1)\n",
        "        self.out = nn.Linear(self.bert.config.hidden_size, 1)\n",
        "\n",
        "    def forward(self, input_ids, attention_mask):\n",
        "        _, pooled_output = self.bert(\n",
        "            input_ids=input_ids, attention_mask=attention_mask, return_dict=False)\n",
        "        output = self.drop(pooled_output)\n",
        "        return self.out(output)\n"
      ],
      "metadata": {
        "id": "J0VY5b-w8Jf1"
      },
      "execution_count": 12,
      "outputs": []
    },
    {
      "cell_type": "markdown",
      "source": [
        "## Train & Eval"
      ],
      "metadata": {
        "id": "se8O-Mry2MaQ"
      }
    },
    {
      "cell_type": "code",
      "source": [
        "def train_epoch(model, data_loader, loss_fn, device, optimizer, scheduler):\n",
        "    model = model.train()\n",
        "\n",
        "    losses = []\n",
        "    fin_targets = []\n",
        "    fin_outputs = []\n",
        "    correct_predictions = 0\n",
        "\n",
        "    for d in tqdm(data_loader, total=len(data_loader)):\n",
        "        input_ids = d[\"input_ids\"].to(device)\n",
        "        attention_mask = d[\"attention_mask\"].to(device)\n",
        "        targets = d[\"targets\"].to(device, dtype=torch.float)\n",
        "\n",
        "        optimizer.zero_grad()\n",
        "        outputs = model(input_ids=input_ids, attention_mask=attention_mask)\n",
        "\n",
        "        loss = loss_fn(outputs, targets.view(-1, 1))\n",
        "        losses.append(loss.item())\n",
        "\n",
        "        # _, preds = torch.max(outputs, dim=1)\n",
        "        # correct_predictions += torch.sum(preds == targets)\n",
        "        fin_targets.extend(targets.cpu().detach().numpy().tolist())\n",
        "        fin_outputs.extend(torch.sigmoid(outputs).cpu().detach().numpy().tolist())\n",
        "\n",
        "        loss.backward()\n",
        "        nn.utils.clip_grad_norm_(model.parameters(), max_norm=1.0)\n",
        "        optimizer.step()\n",
        "        scheduler.step()\n",
        "   \n",
        "    f_outputs = np.array(fin_outputs) >= 0.5\n",
        "    accuracy = metrics.accuracy_score(fin_targets, f_outputs)\n",
        "\n",
        "    return accuracy, np.mean(losses)\n",
        "\n",
        "\n",
        "def eval_model(model, data_loader, loss_fn, device):\n",
        "    model = model.eval()\n",
        "\n",
        "    losses = []\n",
        "    fin_targets = []\n",
        "    fin_outputs = []\n",
        "\n",
        "    with torch.no_grad():\n",
        "        for d in tqdm(data_loader, total=len(data_loader)):\n",
        "            input_ids = d[\"input_ids\"].to(device)\n",
        "            attention_mask = d[\"attention_mask\"].to(device)\n",
        "            targets = d[\"targets\"].to(device, dtype=torch.float)\n",
        "\n",
        "            outputs = model(\n",
        "                input_ids=input_ids,\n",
        "                attention_mask=attention_mask\n",
        "            )\n",
        "\n",
        "            loss = loss_fn(outputs, targets.view(-1, 1))\n",
        "            losses.append(loss.item())\n",
        "\n",
        "            # _, preds = torch.max(outputs, dim=1)\n",
        "            # correct_predictions += torch.sum(preds == targets)\n",
        "            fin_targets.extend(targets.cpu().detach().numpy().tolist())\n",
        "            fin_outputs.extend(torch.sigmoid(outputs).cpu().detach().numpy().tolist())\n",
        "\n",
        "    f_outputs = np.array(fin_outputs) >= 0.5\n",
        "    accuracy = metrics.accuracy_score(fin_targets, f_outputs)\n",
        "\n",
        "    return accuracy, np.mean(losses)\n"
      ],
      "metadata": {
        "id": "TGSS9zRk2TPe"
      },
      "execution_count": 13,
      "outputs": []
    },
    {
      "cell_type": "markdown",
      "source": [
        "## Model Training"
      ],
      "metadata": {
        "id": "5P--E3tX80mZ"
      }
    },
    {
      "cell_type": "code",
      "source": [
        "def get_loss_opt_sche(model):\n",
        "    param_optimizer = list(model.named_parameters())\n",
        "    no_decay = [\"bias\", \"LayerNorm.bias\", \"LayerNorm.weight\"]\n",
        "    optimizer_parameters = [\n",
        "        {\n",
        "            \"params\": [\n",
        "                p for n, p in param_optimizer if not any(nd in n for nd in no_decay)\n",
        "            ],\n",
        "            \"weight_decay\": 0.001,\n",
        "        },\n",
        "        {\n",
        "            \"params\": [\n",
        "                p for n, p in param_optimizer if any(nd in n for nd in no_decay)\n",
        "            ],\n",
        "            \"weight_decay\": 0.0,\n",
        "        },\n",
        "    ]\n",
        "\n",
        "    # optimizer = AdamW(model.parameters(), lr=2e-5, correct_bias=False)\n",
        "    optimizer = AdamW(optimizer_parameters, lr=2e-5)\n",
        "\n",
        "    total_steps = len(train_data_loader) * CONFIG['EPOCHS']\n",
        "    scheduler = get_linear_schedule_with_warmup(\n",
        "        optimizer, num_warmup_steps=0, num_training_steps=total_steps)\n",
        "\n",
        "    loss_fn = nn.BCEWithLogitsLoss().to(device)\n",
        "    # loss_fn = nn.CrossEntropyLoss().to(device)\n",
        "\n",
        "    return loss_fn, optimizer, scheduler\n"
      ],
      "metadata": {
        "id": "LJaDbjE-fOI5"
      },
      "execution_count": 14,
      "outputs": []
    },
    {
      "cell_type": "code",
      "source": [
        "d = pd.read_csv(\"/content/drive/MyDrive/Colab Notebooks/NLP/NER/bert-entity-extraction/bert_class/final_clean_ama.csv\")\n",
        "dd = d[['clean_review', 'Score']]\n",
        "dd.columns = ['text', 'target']"
      ],
      "metadata": {
        "id": "PIJaj2wyCmn_"
      },
      "execution_count": 21,
      "outputs": []
    },
    {
      "cell_type": "code",
      "source": [
        "dd = dd.sample(frac=0.1)\n",
        "dd.shape"
      ],
      "metadata": {
        "colab": {
          "base_uri": "https://localhost:8080/"
        },
        "id": "B_m5qCyPFiQO",
        "outputId": "501aa3b4-19f4-4f05-8ba8-81ceffda9cb7"
      },
      "execution_count": 22,
      "outputs": [
        {
          "output_type": "execute_result",
          "data": {
            "text/plain": [
              "(36529, 2)"
            ]
          },
          "metadata": {},
          "execution_count": 22
        }
      ]
    },
    {
      "cell_type": "code",
      "source": [
        "EPOCHS = CONFIG['EPOCHS']\n",
        "\n",
        "# load csv datafile\n",
        "ob = LoadDataset(df=dd)\n",
        "df_train, df_val, df_test = ob.get_dataset(test=True)\n",
        "# df_train, df_val = ob.get_dataset()\n",
        "\n",
        "# get dataloader object for train and test data\n",
        "data_loader_obj = BERTDataLoader()\n",
        "train_data_loader = data_loader_obj.create_data_loader(df_train, CONFIG['TRAIN_BATCH_SIZE'])\n",
        "val_data_loader = data_loader_obj.create_data_loader(df_val, CONFIG['VALID_BATCH_SIZE'])\n",
        "test_data_loader = data_loader_obj.create_data_loader(df_test,  CONFIG['VALID_BATCH_SIZE'])\n"
      ],
      "metadata": {
        "id": "sl-yFqWjehll"
      },
      "execution_count": 23,
      "outputs": []
    },
    {
      "cell_type": "code",
      "source": [
        "# get model\n",
        "model = BERTBaseUncased()\n",
        "model.to(device)\n",
        "\n",
        "# get loss_fn, optimizer, scheduler\n",
        "loss_fn, optimizer, scheduler = get_loss_opt_sche(model)"
      ],
      "metadata": {
        "colab": {
          "base_uri": "https://localhost:8080/"
        },
        "id": "kDplQoR2kYNv",
        "outputId": "8f257589-3c0a-4028-949c-0106d8cef497"
      },
      "execution_count": 24,
      "outputs": [
        {
          "output_type": "stream",
          "name": "stderr",
          "text": [
            "Some weights of the model checkpoint at bert-base-uncased were not used when initializing BertModel: ['cls.seq_relationship.bias', 'cls.predictions.transform.dense.weight', 'cls.predictions.decoder.weight', 'cls.seq_relationship.weight', 'cls.predictions.transform.LayerNorm.bias', 'cls.predictions.transform.dense.bias', 'cls.predictions.transform.LayerNorm.weight', 'cls.predictions.bias']\n",
            "- This IS expected if you are initializing BertModel from the checkpoint of a model trained on another task or with another architecture (e.g. initializing a BertForSequenceClassification model from a BertForPreTraining model).\n",
            "- This IS NOT expected if you are initializing BertModel from the checkpoint of a model that you expect to be exactly identical (initializing a BertForSequenceClassification model from a BertForSequenceClassification model).\n"
          ]
        }
      ]
    },
    {
      "cell_type": "code",
      "source": [
        "history = defaultdict(list)\n",
        "best_accuracy = 0\n",
        "for epoch in range(EPOCHS):\n",
        "    print(f'Epoch {epoch + 1}/{EPOCHS}')\n",
        "    print('-' * 10)\n",
        "\n",
        "    train_acc, train_loss = train_epoch(\n",
        "        model, train_data_loader, loss_fn, device, optimizer, scheduler)\n",
        "    print(f'Train loss {train_loss} accuracy {train_acc}')\n",
        "\n",
        "    val_acc, val_loss = eval_model(model, val_data_loader, loss_fn, device)\n",
        "    print(f'Val   loss {val_loss} accuracy {val_acc} \\n')\n",
        "\n",
        "    history['train_acc'].append(train_acc)\n",
        "    history['train_loss'].append(train_loss)\n",
        "    history['val_acc'].append(val_acc)\n",
        "    history['val_loss'].append(val_loss)\n",
        "\n",
        "    if val_acc > best_accuracy:\n",
        "        torch.save(model.state_dict(), CONFIG['MODEL_PATH'])\n",
        "        best_accuracy = val_acc\n"
      ],
      "metadata": {
        "colab": {
          "base_uri": "https://localhost:8080/"
        },
        "id": "CTZiTdhr805p",
        "outputId": "afeec3f1-452c-44cd-ebe3-55d60ebf9ede"
      },
      "execution_count": 25,
      "outputs": [
        {
          "output_type": "stream",
          "name": "stdout",
          "text": [
            "Epoch 1/4\n",
            "----------\n"
          ]
        },
        {
          "output_type": "stream",
          "name": "stderr",
          "text": [
            "100%|██████████| 1028/1028 [06:07<00:00,  2.80it/s]\n"
          ]
        },
        {
          "output_type": "stream",
          "name": "stdout",
          "text": [
            "Train loss 0.23860114910422392 accuracy 0.9047937705316949\n"
          ]
        },
        {
          "output_type": "stream",
          "name": "stderr",
          "text": [
            "100%|██████████| 115/115 [00:07<00:00, 15.45it/s]\n"
          ]
        },
        {
          "output_type": "stream",
          "name": "stdout",
          "text": [
            "Val   loss 0.18760588540817086 accuracy 0.9222343921139102 \n",
            "\n",
            "Epoch 2/4\n",
            "----------\n"
          ]
        },
        {
          "output_type": "stream",
          "name": "stderr",
          "text": [
            "100%|██████████| 1028/1028 [06:05<00:00,  2.81it/s]\n"
          ]
        },
        {
          "output_type": "stream",
          "name": "stdout",
          "text": [
            "Train loss 0.14691536074254213 accuracy 0.947378026523908\n"
          ]
        },
        {
          "output_type": "stream",
          "name": "stderr",
          "text": [
            "100%|██████████| 115/115 [00:07<00:00, 14.76it/s]\n"
          ]
        },
        {
          "output_type": "stream",
          "name": "stdout",
          "text": [
            "Val   loss 0.2560966415492737 accuracy 0.9101861993428259 \n",
            "\n",
            "Epoch 3/4\n",
            "----------\n"
          ]
        },
        {
          "output_type": "stream",
          "name": "stderr",
          "text": [
            "100%|██████████| 1028/1028 [06:09<00:00,  2.78it/s]\n"
          ]
        },
        {
          "output_type": "stream",
          "name": "stdout",
          "text": [
            "Train loss 0.09990458748623156 accuracy 0.9697347609198199\n"
          ]
        },
        {
          "output_type": "stream",
          "name": "stderr",
          "text": [
            "100%|██████████| 115/115 [00:07<00:00, 14.76it/s]\n"
          ]
        },
        {
          "output_type": "stream",
          "name": "stdout",
          "text": [
            "Val   loss 0.26917976454183784 accuracy 0.9216867469879518 \n",
            "\n",
            "Epoch 4/4\n",
            "----------\n"
          ]
        },
        {
          "output_type": "stream",
          "name": "stderr",
          "text": [
            "100%|██████████| 1028/1028 [06:06<00:00,  2.81it/s]\n"
          ]
        },
        {
          "output_type": "stream",
          "name": "stdout",
          "text": [
            "Train loss 0.06892875731836168 accuracy 0.9810804234091739\n"
          ]
        },
        {
          "output_type": "stream",
          "name": "stderr",
          "text": [
            "100%|██████████| 115/115 [00:07<00:00, 14.91it/s]"
          ]
        },
        {
          "output_type": "stream",
          "name": "stdout",
          "text": [
            "Val   loss 0.3323489323562092 accuracy 0.9211391018619934 \n",
            "\n"
          ]
        },
        {
          "output_type": "stream",
          "name": "stderr",
          "text": [
            "\n"
          ]
        }
      ]
    },
    {
      "cell_type": "code",
      "source": [
        "torch.save(model.state_dict(), CONFIG['MODEL_PATH'])"
      ],
      "metadata": {
        "id": "mw3qCgZnway-"
      },
      "execution_count": 72,
      "outputs": []
    },
    {
      "cell_type": "code",
      "source": [
        "plt.plot(history['train_acc'], label='train accuracy')\n",
        "plt.plot(history['val_acc'], label='validation accuracy')\n",
        "\n",
        "plt.title('Training history')\n",
        "plt.ylabel('Accuracy')\n",
        "plt.xlabel('Epoch')\n",
        "plt.legend()\n",
        "# plt.ylim([0, 1]);"
      ],
      "metadata": {
        "colab": {
          "base_uri": "https://localhost:8080/",
          "height": 489
        },
        "id": "GNHqHJRH2URP",
        "outputId": "9465d0f3-781d-4a9b-c5f6-2c9ffe047e16"
      },
      "execution_count": 26,
      "outputs": [
        {
          "output_type": "execute_result",
          "data": {
            "text/plain": [
              "<matplotlib.legend.Legend at 0x7f9e7ba6a9e0>"
            ]
          },
          "metadata": {},
          "execution_count": 26
        },
        {
          "output_type": "display_data",
          "data": {
            "text/plain": [
              "<Figure size 640x480 with 1 Axes>"
            ],
            "image/png": "[encoded data removed]"
          },
          "metadata": {}
        }
      ]
    },
    {
      "cell_type": "code",
      "source": [
        "plt.plot(history['train_loss'], label='train loss')\n",
        "plt.plot(history['val_loss'], label='validation loss')\n",
        "\n",
        "plt.title('Training history')\n",
        "plt.ylabel('Accuracy')\n",
        "plt.xlabel('Epoch')\n",
        "plt.legend()\n",
        "# plt.ylim([0, 1]);"
      ],
      "metadata": {
        "colab": {
          "base_uri": "https://localhost:8080/",
          "height": 489
        },
        "id": "VSdeGWNXvRnK",
        "outputId": "d2e8df51-8417-43b5-fc77-080efe0ce124"
      },
      "execution_count": 27,
      "outputs": [
        {
          "output_type": "execute_result",
          "data": {
            "text/plain": [
              "<matplotlib.legend.Legend at 0x7f9e7ac93e80>"
            ]
          },
          "metadata": {},
          "execution_count": 27
        },
        {
          "output_type": "display_data",
          "data": {
            "text/plain": [
              "<Figure size 640x480 with 1 Axes>"
            ],
            "image/png": "[encoded data removed]"
          },
          "metadata": {}
        }
      ]
    },
    {
      "cell_type": "markdown",
      "source": [
        "## Test Evaluation"
      ],
      "metadata": {
        "id": "YQpMkRjN7xcE"
      }
    },
    {
      "cell_type": "markdown",
      "source": [
        "### Load Model"
      ],
      "metadata": {
        "id": "rkoFI-SCJOLQ"
      }
    },
    {
      "cell_type": "code",
      "source": [
        "MODEL = BERTBaseUncased()\n",
        "MODEL.load_state_dict(torch.load(CONFIG['MODEL_PATH']))\n",
        "MODEL.to(CONFIG['DEVICE'])\n",
        "MODEL.eval()\n",
        "DEVICE = CONFIG['DEVICE']\n",
        "PREDICTION_DICT = dict()"
      ],
      "metadata": {
        "colab": {
          "base_uri": "https://localhost:8080/"
        },
        "id": "CGEcEkBoJN20",
        "outputId": "ed9adc13-ea61-472d-b414-1224c4c2efc4"
      },
      "execution_count": 28,
      "outputs": [
        {
          "output_type": "stream",
          "name": "stderr",
          "text": [
            "Some weights of the model checkpoint at bert-base-uncased were not used when initializing BertModel: ['cls.seq_relationship.bias', 'cls.predictions.transform.dense.weight', 'cls.predictions.decoder.weight', 'cls.seq_relationship.weight', 'cls.predictions.transform.LayerNorm.bias', 'cls.predictions.transform.dense.bias', 'cls.predictions.transform.LayerNorm.weight', 'cls.predictions.bias']\n",
            "- This IS expected if you are initializing BertModel from the checkpoint of a model trained on another task or with another architecture (e.g. initializing a BertForSequenceClassification model from a BertForPreTraining model).\n",
            "- This IS NOT expected if you are initializing BertModel from the checkpoint of a model that you expect to be exactly identical (initializing a BertForSequenceClassification model from a BertForSequenceClassification model).\n"
          ]
        }
      ]
    },
    {
      "cell_type": "code",
      "source": [
        "import torch.nn.functional as F\n",
        "\n",
        "def get_predictions(model, data_loader):\n",
        "    model = model.eval()\n",
        "\n",
        "    review_texts = []\n",
        "    target_values = []\n",
        "    predictions = []\n",
        "    prediction_probs = []\n",
        "\n",
        "    with torch.no_grad():\n",
        "        for d in data_loader:\n",
        "\n",
        "            texts = d[\"text_text\"]\n",
        "            input_ids = d[\"input_ids\"].to(device)\n",
        "            attention_mask = d[\"attention_mask\"].to(device)\n",
        "            targets = d[\"targets\"].to(device)\n",
        "\n",
        "            outputs = model(\n",
        "                input_ids=input_ids,\n",
        "                attention_mask=attention_mask\n",
        "            )\n",
        "\n",
        "            prediction_probs.extend(torch.sigmoid(outputs).cpu().detach().numpy().tolist())\n",
        "            review_texts.extend(texts)\n",
        "            target_values.extend(targets.cpu().detach().numpy().tolist())\n",
        "\n",
        "    predictions = np.where(np.array(prediction_probs) >= 0.5, 1, 0)\n",
        "    return review_texts, predictions, prediction_probs, target_values"
      ],
      "metadata": {
        "id": "qUaRi-3R7y0k"
      },
      "execution_count": 29,
      "outputs": []
    },
    {
      "cell_type": "code",
      "source": [
        "y_review_texts, y_pred, y_pred_probs, y_test = get_predictions(\n",
        "  model,\n",
        "  test_data_loader\n",
        ")"
      ],
      "metadata": {
        "id": "ycfVrkTW7xJO"
      },
      "execution_count": 62,
      "outputs": []
    },
    {
      "cell_type": "code",
      "source": [
        "class_names = ['no_disaster', 'disaster']\n",
        "class_names = ['negative', 'positive']\n",
        "print(classification_report(y_test, y_pred, target_names=class_names))"
      ],
      "metadata": {
        "colab": {
          "base_uri": "https://localhost:8080/"
        },
        "id": "A5KHBbyv7-YE",
        "outputId": "7d4b1349-6d02-42c5-a5f0-90bce797f08f"
      },
      "execution_count": 63,
      "outputs": [
        {
          "output_type": "stream",
          "name": "stdout",
          "text": [
            "              precision    recall  f1-score   support\n",
            "\n",
            "    negative       0.79      0.80      0.80       291\n",
            "    positive       0.96      0.96      0.96      1536\n",
            "\n",
            "    accuracy                           0.93      1827\n",
            "   macro avg       0.88      0.88      0.88      1827\n",
            "weighted avg       0.93      0.93      0.93      1827\n",
            "\n"
          ]
        }
      ]
    },
    {
      "cell_type": "markdown",
      "source": [
        "### Confusion Matrix"
      ],
      "metadata": {
        "id": "nEzFw8wrJUQh"
      }
    },
    {
      "cell_type": "code",
      "source": [
        "def show_confusion_matrix(confusion_matrix):\n",
        "    hmap = sns.heatmap(confusion_matrix, annot=True, fmt=\"d\", cmap=\"Blues\")\n",
        "    hmap.yaxis.set_ticklabels(hmap.yaxis.get_ticklabels(), rotation=0, ha='right')\n",
        "    hmap.xaxis.set_ticklabels(hmap.xaxis.get_ticklabels(), rotation=30, ha='right')\n",
        "    plt.ylabel('True sentiment')\n",
        "    plt.xlabel('Predicted sentiment');\n",
        "\n",
        "cm = confusion_matrix(y_test, y_pred)\n",
        "df_cm = pd.DataFrame(cm, index=class_names, columns=class_names)\n",
        "show_confusion_matrix(df_cm)"
      ],
      "metadata": {
        "colab": {
          "base_uri": "https://localhost:8080/",
          "height": 478
        },
        "id": "GKnaLJ20AJCt",
        "outputId": "1cc3775d-f3d1-4079-dbcd-c84b90997997"
      },
      "execution_count": 64,
      "outputs": [
        {
          "output_type": "display_data",
          "data": {
            "text/plain": [
              "<Figure size 640x480 with 2 Axes>"
            ],
            "image/png": "[encoded data removed]"
          },
          "metadata": {}
        }
      ]
    },
    {
      "cell_type": "code",
      "source": [
        "dd = pd.DataFrame(\n",
        "    {\n",
        "     'y_review_texts':y_review_texts,\n",
        "     'y_test':y_test,\n",
        "     'y_pred':[v[0] for v in y_pred],\n",
        "     'y_pred_probs':y_pred_probs,\n",
        "    }\n",
        ")"
      ],
      "metadata": {
        "id": "3-YjTKODAT56"
      },
      "execution_count": 65,
      "outputs": []
    },
    {
      "cell_type": "code",
      "source": [
        "dd[dd['y_test'] != dd['y_pred']].head()"
      ],
      "metadata": {
        "colab": {
          "base_uri": "https://localhost:8080/",
          "height": 206
        },
        "id": "EpGZDtbmA8z9",
        "outputId": "b587ab92-a29a-4683-f7c5-49b9f6335d20"
      },
      "execution_count": 66,
      "outputs": [
        {
          "output_type": "execute_result",
          "data": {
            "text/plain": [
              "                                       y_review_texts  y_test  y_pred  \\\n",
              "15  love mcdougall food product one quite measure ...     0.0       1   \n",
              "16  unbearably hot unbearably go within one day ge...     1.0       0   \n",
              "32  start disclaimer neither husband nor kind trai...     1.0       0   \n",
              "37  water good thirsty fiji certainly taste soft l...     0.0       1   \n",
              "77  self heating work fine long not weather below ...     0.0       1   \n",
              "\n",
              "              y_pred_probs  \n",
              "15    [0.9986761212348938]  \n",
              "16  [0.003589513711631298]  \n",
              "32    [0.2330416440963745]  \n",
              "37    [0.9901943802833557]  \n",
              "77    [0.9972875118255615]  "
            ],
            "text/html": [
              "\n",
              "  <div id=\"df-f5ca0125-3f65-4d4f-98d4-e178d8703909\">\n",
              "    <div class=\"colab-df-container\">\n",
              "      <div>\n",
              "<style scoped>\n",
              "    .dataframe tbody tr th:only-of-type {\n",
              "        vertical-align: middle;\n",
              "    }\n",
              "\n",
              "    .dataframe tbody tr th {\n",
              "        vertical-align: top;\n",
              "    }\n",
              "\n",
              "    .dataframe thead th {\n",
              "        text-align: right;\n",
              "    }\n",
              "</style>\n",
              "<table border=\"1\" class=\"dataframe\">\n",
              "  <thead>\n",
              "    <tr style=\"text-align: right;\">\n",
              "      <th></th>\n",
              "      <th>y_review_texts</th>\n",
              "      <th>y_test</th>\n",
              "      <th>y_pred</th>\n",
              "      <th>y_pred_probs</th>\n",
              "    </tr>\n",
              "  </thead>\n",
              "  <tbody>\n",
              "    <tr>\n",
              "      <th>15</th>\n",
              "      <td>love mcdougall food product one quite measure ...</td>\n",
              "      <td>0.0</td>\n",
              "      <td>1</td>\n",
              "      <td>[0.9986761212348938]</td>\n",
              "    </tr>\n",
              "    <tr>\n",
              "      <th>16</th>\n",
              "      <td>unbearably hot unbearably go within one day ge...</td>\n",
              "      <td>1.0</td>\n",
              "      <td>0</td>\n",
              "      <td>[0.003589513711631298]</td>\n",
              "    </tr>\n",
              "    <tr>\n",
              "      <th>32</th>\n",
              "      <td>start disclaimer neither husband nor kind trai...</td>\n",
              "      <td>1.0</td>\n",
              "      <td>0</td>\n",
              "      <td>[0.2330416440963745]</td>\n",
              "    </tr>\n",
              "    <tr>\n",
              "      <th>37</th>\n",
              "      <td>water good thirsty fiji certainly taste soft l...</td>\n",
              "      <td>0.0</td>\n",
              "      <td>1</td>\n",
              "      <td>[0.9901943802833557]</td>\n",
              "    </tr>\n",
              "    <tr>\n",
              "      <th>77</th>\n",
              "      <td>self heating work fine long not weather below ...</td>\n",
              "      <td>0.0</td>\n",
              "      <td>1</td>\n",
              "      <td>[0.9972875118255615]</td>\n",
              "    </tr>\n",
              "  </tbody>\n",
              "</table>\n",
              "</div>\n",
              "      <button class=\"colab-df-convert\" onclick=\"convertToInteractive('df-f5ca0125-3f65-4d4f-98d4-e178d8703909')\"\n",
              "              title=\"Convert this dataframe to an interactive table.\"\n",
              "              style=\"display:none;\">\n",
              "        \n",
              "  <svg xmlns=\"http://www.w3.org/2000/svg\" height=\"24px\"viewBox=\"0 0 24 24\"\n",
              "       width=\"24px\">\n",
              "    <path d=\"M0 0h24v24H0V0z\" fill=\"none\"/>\n",
              "    <path d=\"M18.56 5.44l.94 2.06.94-2.06 2.06-.94-2.06-.94-.94-2.06-.94 2.06-2.06.94zm-11 1L8.5 8.5l.94-2.06 2.06-.94-2.06-.94L8.5 2.5l-.94 2.06-2.06.94zm10 10l.94 2.06.94-2.06 2.06-.94-2.06-.94-.94-2.06-.94 2.06-2.06.94z\"/><path d=\"M17.41 7.96l-1.37-1.37c-.4-.4-.92-.59-1.43-.59-.52 0-1.04.2-1.43.59L10.3 9.45l-7.72 7.72c-.78.78-.78 2.05 0 2.83L4 21.41c.39.39.9.59 1.41.59.51 0 1.02-.2 1.41-.59l7.78-7.78 2.81-2.81c.8-.78.8-2.07 0-2.86zM5.41 20L4 18.59l7.72-7.72 1.47 1.35L5.41 20z\"/>\n",
              "  </svg>\n",
              "      </button>\n",
              "      \n",
              "  <style>\n",
              "    .colab-df-container {\n",
              "      display:flex;\n",
              "      flex-wrap:wrap;\n",
              "      gap: 12px;\n",
              "    }\n",
              "\n",
              "    .colab-df-convert {\n",
              "      background-color: #E8F0FE;\n",
              "      border: none;\n",
              "      border-radius: 50%;\n",
              "      cursor: pointer;\n",
              "      display: none;\n",
              "      fill: #1967D2;\n",
              "      height: 32px;\n",
              "      padding: 0 0 0 0;\n",
              "      width: 32px;\n",
              "    }\n",
              "\n",
              "    .colab-df-convert:hover {\n",
              "      background-color: #E2EBFA;\n",
              "      box-shadow: 0px 1px 2px rgba(60, 64, 67, 0.3), 0px 1px 3px 1px rgba(60, 64, 67, 0.15);\n",
              "      fill: #174EA6;\n",
              "    }\n",
              "\n",
              "    [theme=dark] .colab-df-convert {\n",
              "      background-color: #3B4455;\n",
              "      fill: #D2E3FC;\n",
              "    }\n",
              "\n",
              "    [theme=dark] .colab-df-convert:hover {\n",
              "      background-color: #434B5C;\n",
              "      box-shadow: 0px 1px 3px 1px rgba(0, 0, 0, 0.15);\n",
              "      filter: drop-shadow(0px 1px 2px rgba(0, 0, 0, 0.3));\n",
              "      fill: #FFFFFF;\n",
              "    }\n",
              "  </style>\n",
              "\n",
              "      <script>\n",
              "        const buttonEl =\n",
              "          document.querySelector('#df-f5ca0125-3f65-4d4f-98d4-e178d8703909 button.colab-df-convert');\n",
              "        buttonEl.style.display =\n",
              "          google.colab.kernel.accessAllowed ? 'block' : 'none';\n",
              "\n",
              "        async function convertToInteractive(key) {\n",
              "          const element = document.querySelector('#df-f5ca0125-3f65-4d4f-98d4-e178d8703909');\n",
              "          const dataTable =\n",
              "            await google.colab.kernel.invokeFunction('convertToInteractive',\n",
              "                                                     [key], {});\n",
              "          if (!dataTable) return;\n",
              "\n",
              "          const docLinkHtml = 'Like what you see? Visit the ' +\n",
              "            '<a target=\"_blank\" href=https://colab.research.google.com/notebooks/data_table.ipynb>data table notebook</a>'\n",
              "            + ' to learn more about interactive tables.';\n",
              "          element.innerHTML = '';\n",
              "          dataTable['output_type'] = 'display_data';\n",
              "          await google.colab.output.renderOutput(dataTable, element);\n",
              "          const docLink = document.createElement('div');\n",
              "          docLink.innerHTML = docLinkHtml;\n",
              "          element.appendChild(docLink);\n",
              "        }\n",
              "      </script>\n",
              "    </div>\n",
              "  </div>\n",
              "  "
            ]
          },
          "metadata": {},
          "execution_count": 66
        }
      ]
    },
    {
      "cell_type": "markdown",
      "source": [
        "## Prediction"
      ],
      "metadata": {
        "id": "hIKU3hXxvR6n"
      }
    },
    {
      "cell_type": "code",
      "source": [
        "def pred_disaster(review_text, model):\n",
        "    class_names = ['no_disaster', 'disaster']    # 1, 0\n",
        "    tokenizer = CONFIG['TOKENIZER']\n",
        "    max_len = CONFIG['MAX_LEN']\n",
        "\n",
        "    encoded_review = tokenizer.encode_plus(\n",
        "      review_text,\n",
        "      max_length=max_len,\n",
        "      add_special_tokens=True,\n",
        "      return_token_type_ids=False,\n",
        "      pad_to_max_length=True,\n",
        "      return_attention_mask=True,\n",
        "      return_tensors='pt',\n",
        "    )\n",
        "\n",
        "    input_ids = encoded_review['input_ids'].to(device)\n",
        "    attention_mask = encoded_review['attention_mask'].to(device)\n",
        "\n",
        "    output = model(input_ids, attention_mask)\n",
        "    # logits = output.logits.detach().cpu()\n",
        "    prediction = torch.sigmoid(output).cpu().detach().numpy()\n",
        "    print(output)\n",
        "    print(torch.sigmoid(output))\n",
        "    return prediction[0][0]\n",
        "\n",
        "def predict(model, sentence):\n",
        "    start_time = time.time()\n",
        "    positive_prediction = pred_disaster(sentence, model)\n",
        "    negative_prediction = 1 - positive_prediction\n",
        "    response = {}\n",
        "    response[\"response\"] = {\n",
        "        \"positve\": str(positive_prediction),\n",
        "        \"negative\": str(negative_prediction),\n",
        "        \"sentence\": str(sentence)\n",
        "    }\n",
        "    return response"
      ],
      "metadata": {
        "id": "YOZctfbQ5aVE"
      },
      "execution_count": 68,
      "outputs": []
    },
    {
      "cell_type": "code",
      "source": [
        "predict(model, 'deeds reason earthquake may allah forgive us')"
      ],
      "metadata": {
        "colab": {
          "base_uri": "https://localhost:8080/"
        },
        "id": "Cj5nW_vYvXE6",
        "outputId": "ac171242-4570-4b33-fd14-4602d634bb35"
      },
      "execution_count": 69,
      "outputs": [
        {
          "output_type": "stream",
          "name": "stdout",
          "text": [
            "tensor([[0.6891]], device='cuda:0', grad_fn=<AddmmBackward0>)\n",
            "tensor([[0.6658]], device='cuda:0', grad_fn=<SigmoidBackward0>)\n"
          ]
        },
        {
          "output_type": "execute_result",
          "data": {
            "text/plain": [
              "{'response': {'positve': '0.6657764',\n",
              "  'negative': '0.3342236280441284',\n",
              "  'sentence': 'deeds reason earthquake may allah forgive us'}}"
            ]
          },
          "metadata": {},
          "execution_count": 69
        }
      ]
    },
    {
      "cell_type": "code",
      "source": [
        "review_text = \"I love completing my todos!!!\"\n",
        "predict(model, review_text)"
      ],
      "metadata": {
        "colab": {
          "base_uri": "https://localhost:8080/"
        },
        "id": "_bUJ9O_7vXH7",
        "outputId": "e1bf94a1-d759-411c-86a8-b14d1f7f12ba"
      },
      "execution_count": 70,
      "outputs": [
        {
          "output_type": "stream",
          "name": "stdout",
          "text": [
            "tensor([[4.9486]], device='cuda:0', grad_fn=<AddmmBackward0>)\n",
            "tensor([[0.9930]], device='cuda:0', grad_fn=<SigmoidBackward0>)\n"
          ]
        },
        {
          "output_type": "execute_result",
          "data": {
            "text/plain": [
              "{'response': {'positve': '0.99295664',\n",
              "  'negative': '0.007043361663818359',\n",
              "  'sentence': 'I love completing my todos!!!'}}"
            ]
          },
          "metadata": {},
          "execution_count": 70
        }
      ]
    },
    {
      "cell_type": "code",
      "source": [
        "review_text = \"I hate implementation of  transfomers\"\n",
        "predict(model, review_text)"
      ],
      "metadata": {
        "colab": {
          "base_uri": "https://localhost:8080/"
        },
        "id": "DVQzwFr2vXMo",
        "outputId": "e6402997-4b80-4af3-a111-5fba6f6a7049"
      },
      "execution_count": 71,
      "outputs": [
        {
          "output_type": "stream",
          "name": "stdout",
          "text": [
            "tensor([[-4.7696]], device='cuda:0', grad_fn=<AddmmBackward0>)\n",
            "tensor([[0.0084]], device='cuda:0', grad_fn=<SigmoidBackward0>)\n"
          ]
        },
        {
          "output_type": "execute_result",
          "data": {
            "text/plain": [
              "{'response': {'positve': '0.008412504',\n",
              "  'negative': '0.9915874963626266',\n",
              "  'sentence': 'I hate implementation of  transfomers'}}"
            ]
          },
          "metadata": {},
          "execution_count": 71
        }
      ]
    },
    {
      "cell_type": "code",
      "source": [],
      "metadata": {
        "id": "5pvncTNtNQRg"
      },
      "execution_count": null,
      "outputs": []
    }
  ]
}