{
  "nbformat": 4,
  "nbformat_minor": 0,
  "metadata": {
    "colab": {
      "provenance": [],
      "toc_visible": true
    },
    "kernelspec": {
      "name": "python3",
      "display_name": "Python 3"
    },
    "language_info": {
      "name": "python"
    }
  },
  "cells": [
    {
      "cell_type": "code",
      "source": [
        "import pandas as pd\n",
        "import numpy as np"
      ],
      "metadata": {
        "id": "SA5h223baYVF"
      },
      "execution_count": 1,
      "outputs": []
    },
    {
      "cell_type": "code",
      "source": [
        "from sklearn.feature_extraction.text import CountVectorizer\n",
        "from sklearn.feature_extraction.text import TfidfVectorizer"
      ],
      "metadata": {
        "id": "YGtdAEbUa7e1"
      },
      "execution_count": 2,
      "outputs": []
    },
    {
      "cell_type": "code",
      "source": [
        "import nltk\n",
        "from nltk.tokenize import word_tokenize\n",
        "from nltk.corpus import stopwords"
      ],
      "metadata": {
        "id": "TeQO4zgoardb"
      },
      "execution_count": 3,
      "outputs": []
    },
    {
      "cell_type": "code",
      "source": [
        "nltk.download('punkt')\n",
        "nltk.download('stopwords')"
      ],
      "metadata": {
        "colab": {
          "base_uri": "https://localhost:8080/"
        },
        "id": "OGziJAomarwb",
        "outputId": "d3a63c55-f271-47d8-f113-b9d2428d49ea"
      },
      "execution_count": 4,
      "outputs": [
        {
          "output_type": "stream",
          "name": "stderr",
          "text": [
            "[nltk_data] Downloading package punkt to /root/nltk_data...\n",
            "[nltk_data]   Package punkt is already up-to-date!\n",
            "[nltk_data] Downloading package stopwords to /root/nltk_data...\n",
            "[nltk_data]   Package stopwords is already up-to-date!\n"
          ]
        },
        {
          "output_type": "execute_result",
          "data": {
            "text/plain": [
              "True"
            ]
          },
          "metadata": {},
          "execution_count": 4
        }
      ]
    },
    {
      "cell_type": "markdown",
      "source": [
        "## **Skearn**"
      ],
      "metadata": {
        "id": "dAoTnGoYhPf4"
      }
    },
    {
      "cell_type": "code",
      "source": [
        "def preprocess(document):\n",
        "    '''\n",
        "    Function to to lower case and removes stopwords\n",
        "    '''\n",
        "\n",
        "    # change sentence to lower case\n",
        "    document = document.lower()\n",
        "\n",
        "    # tokenize into words\n",
        "    words = word_tokenize(document)\n",
        "\n",
        "    # remove stop words\n",
        "    words = [word for word in words if word not in stopwords.words(\"english\")]\n",
        "\n",
        "    # join words to make sentence\n",
        "    document = \" \".join(words)\n",
        "    \n",
        "    return document"
      ],
      "metadata": {
        "id": "EEbeco6QarzT"
      },
      "execution_count": 5,
      "outputs": []
    },
    {
      "cell_type": "code",
      "source": [
        "documents = [\"Gangs of Wasseypur is a great movie. Wasseypur is a town in Bihar.\", \"The success of a song depends on the music.\", \"There is a new movie releasing this week. The movie is fun to watch.\"]"
      ],
      "metadata": {
        "id": "Dnztea-WfB6i"
      },
      "execution_count": 6,
      "outputs": []
    },
    {
      "cell_type": "code",
      "source": [
        "documents = [preprocess(document) for document in documents]\n",
        "documents"
      ],
      "metadata": {
        "colab": {
          "base_uri": "https://localhost:8080/"
        },
        "id": "37Cs4eVkfSv0",
        "outputId": "f9ac1ba7-c639-4447-edfe-471839e5789c"
      },
      "execution_count": 7,
      "outputs": [
        {
          "output_type": "execute_result",
          "data": {
            "text/plain": [
              "['gangs wasseypur great movie . wasseypur town bihar .',\n",
              " 'success song depends music .',\n",
              " 'new movie releasing week . movie fun watch .']"
            ]
          },
          "metadata": {},
          "execution_count": 7
        }
      ]
    },
    {
      "cell_type": "markdown",
      "source": [
        "### 1) BOW"
      ],
      "metadata": {
        "id": "KpRMMHWzhCIz"
      }
    },
    {
      "cell_type": "markdown",
      "source": [
        "**Creating bag of words model using count vectorizer function**"
      ],
      "metadata": {
        "id": "ULXeikGtfy69"
      }
    },
    {
      "cell_type": "code",
      "source": [
        "\n",
        "def bow_vec(documents, ngram_range=(1,1)):\n",
        "    '''\n",
        "    Function to convert a collection of text documents to a matrix of token counts.\n",
        "    \n",
        "    Args:\n",
        "      documents (list): List of documents\n",
        "      ngram_range (tuple):  word n-grams\n",
        "\n",
        "    '''\n",
        "\n",
        "    vectorizer = CountVectorizer(ngram_range=ngram_range)\n",
        "    bow_model = vectorizer.fit_transform(documents)\n",
        "    return vectorizer, bow_model\n"
      ],
      "metadata": {
        "id": "EooHR28vK6sD"
      },
      "execution_count": 8,
      "outputs": []
    },
    {
      "cell_type": "code",
      "source": [
        "bow_vectorizer, bow_model = bow_vec(documents)"
      ],
      "metadata": {
        "id": "_Xs6Hecxar17"
      },
      "execution_count": 9,
      "outputs": []
    },
    {
      "cell_type": "code",
      "source": [
        "bow_model.toarray()"
      ],
      "metadata": {
        "colab": {
          "base_uri": "https://localhost:8080/"
        },
        "id": "V291oyAseoaU",
        "outputId": "46930c17-1746-400f-e1bd-3ccfdab11165"
      },
      "execution_count": 10,
      "outputs": [
        {
          "output_type": "execute_result",
          "data": {
            "text/plain": [
              "array([[1, 0, 0, 1, 1, 1, 0, 0, 0, 0, 0, 1, 2, 0, 0],\n",
              "       [0, 1, 0, 0, 0, 0, 1, 0, 0, 1, 1, 0, 0, 0, 0],\n",
              "       [0, 0, 1, 0, 0, 2, 0, 1, 1, 0, 0, 0, 0, 1, 1]])"
            ]
          },
          "metadata": {},
          "execution_count": 10
        }
      ]
    },
    {
      "cell_type": "code",
      "source": [
        "pd.DataFrame(bow_model.toarray(), columns = bow_vectorizer.get_feature_names_out())"
      ],
      "metadata": {
        "colab": {
          "base_uri": "https://localhost:8080/",
          "height": 143
        },
        "id": "-k3okKQBgHT3",
        "outputId": "ed4c221a-a813-4e5b-9efc-f2ca835a4969"
      },
      "execution_count": 11,
      "outputs": [
        {
          "output_type": "execute_result",
          "data": {
            "text/plain": [
              "   bihar  depends  fun  gangs  great  movie  music  new  releasing  song  \\\n",
              "0      1        0    0      1      1      1      0    0          0     0   \n",
              "1      0        1    0      0      0      0      1    0          0     1   \n",
              "2      0        0    1      0      0      2      0    1          1     0   \n",
              "\n",
              "   success  town  wasseypur  watch  week  \n",
              "0        0     1          2      0     0  \n",
              "1        1     0          0      0     0  \n",
              "2        0     0          0      1     1  "
            ],
            "text/html": [
              "\n",
              "  <div id=\"df-e7c2adec-8de1-4e14-958d-4639c2c5c9b7\">\n",
              "    <div class=\"colab-df-container\">\n",
              "      <div>\n",
              "<style scoped>\n",
              "    .dataframe tbody tr th:only-of-type {\n",
              "        vertical-align: middle;\n",
              "    }\n",
              "\n",
              "    .dataframe tbody tr th {\n",
              "        vertical-align: top;\n",
              "    }\n",
              "\n",
              "    .dataframe thead th {\n",
              "        text-align: right;\n",
              "    }\n",
              "</style>\n",
              "<table border=\"1\" class=\"dataframe\">\n",
              "  <thead>\n",
              "    <tr style=\"text-align: right;\">\n",
              "      <th></th>\n",
              "      <th>bihar</th>\n",
              "      <th>depends</th>\n",
              "      <th>fun</th>\n",
              "      <th>gangs</th>\n",
              "      <th>great</th>\n",
              "      <th>movie</th>\n",
              "      <th>music</th>\n",
              "      <th>new</th>\n",
              "      <th>releasing</th>\n",
              "      <th>song</th>\n",
              "      <th>success</th>\n",
              "      <th>town</th>\n",
              "      <th>wasseypur</th>\n",
              "      <th>watch</th>\n",
              "      <th>week</th>\n",
              "    </tr>\n",
              "  </thead>\n",
              "  <tbody>\n",
              "    <tr>\n",
              "      <th>0</th>\n",
              "      <td>1</td>\n",
              "      <td>0</td>\n",
              "      <td>0</td>\n",
              "      <td>1</td>\n",
              "      <td>1</td>\n",
              "      <td>1</td>\n",
              "      <td>0</td>\n",
              "      <td>0</td>\n",
              "      <td>0</td>\n",
              "      <td>0</td>\n",
              "      <td>0</td>\n",
              "      <td>1</td>\n",
              "      <td>2</td>\n",
              "      <td>0</td>\n",
              "      <td>0</td>\n",
              "    </tr>\n",
              "    <tr>\n",
              "      <th>1</th>\n",
              "      <td>0</td>\n",
              "      <td>1</td>\n",
              "      <td>0</td>\n",
              "      <td>0</td>\n",
              "      <td>0</td>\n",
              "      <td>0</td>\n",
              "      <td>1</td>\n",
              "      <td>0</td>\n",
              "      <td>0</td>\n",
              "      <td>1</td>\n",
              "      <td>1</td>\n",
              "      <td>0</td>\n",
              "      <td>0</td>\n",
              "      <td>0</td>\n",
              "      <td>0</td>\n",
              "    </tr>\n",
              "    <tr>\n",
              "      <th>2</th>\n",
              "      <td>0</td>\n",
              "      <td>0</td>\n",
              "      <td>1</td>\n",
              "      <td>0</td>\n",
              "      <td>0</td>\n",
              "      <td>2</td>\n",
              "      <td>0</td>\n",
              "      <td>1</td>\n",
              "      <td>1</td>\n",
              "      <td>0</td>\n",
              "      <td>0</td>\n",
              "      <td>0</td>\n",
              "      <td>0</td>\n",
              "      <td>1</td>\n",
              "      <td>1</td>\n",
              "    </tr>\n",
              "  </tbody>\n",
              "</table>\n",
              "</div>\n",
              "      <button class=\"colab-df-convert\" onclick=\"convertToInteractive('df-e7c2adec-8de1-4e14-958d-4639c2c5c9b7')\"\n",
              "              title=\"Convert this dataframe to an interactive table.\"\n",
              "              style=\"display:none;\">\n",
              "        \n",
              "  <svg xmlns=\"http://www.w3.org/2000/svg\" height=\"24px\"viewBox=\"0 0 24 24\"\n",
              "       width=\"24px\">\n",
              "    <path d=\"M0 0h24v24H0V0z\" fill=\"none\"/>\n",
              "    <path d=\"M18.56 5.44l.94 2.06.94-2.06 2.06-.94-2.06-.94-.94-2.06-.94 2.06-2.06.94zm-11 1L8.5 8.5l.94-2.06 2.06-.94-2.06-.94L8.5 2.5l-.94 2.06-2.06.94zm10 10l.94 2.06.94-2.06 2.06-.94-2.06-.94-.94-2.06-.94 2.06-2.06.94z\"/><path d=\"M17.41 7.96l-1.37-1.37c-.4-.4-.92-.59-1.43-.59-.52 0-1.04.2-1.43.59L10.3 9.45l-7.72 7.72c-.78.78-.78 2.05 0 2.83L4 21.41c.39.39.9.59 1.41.59.51 0 1.02-.2 1.41-.59l7.78-7.78 2.81-2.81c.8-.78.8-2.07 0-2.86zM5.41 20L4 18.59l7.72-7.72 1.47 1.35L5.41 20z\"/>\n",
              "  </svg>\n",
              "      </button>\n",
              "      \n",
              "  <style>\n",
              "    .colab-df-container {\n",
              "      display:flex;\n",
              "      flex-wrap:wrap;\n",
              "      gap: 12px;\n",
              "    }\n",
              "\n",
              "    .colab-df-convert {\n",
              "      background-color: #E8F0FE;\n",
              "      border: none;\n",
              "      border-radius: 50%;\n",
              "      cursor: pointer;\n",
              "      display: none;\n",
              "      fill: #1967D2;\n",
              "      height: 32px;\n",
              "      padding: 0 0 0 0;\n",
              "      width: 32px;\n",
              "    }\n",
              "\n",
              "    .colab-df-convert:hover {\n",
              "      background-color: #E2EBFA;\n",
              "      box-shadow: 0px 1px 2px rgba(60, 64, 67, 0.3), 0px 1px 3px 1px rgba(60, 64, 67, 0.15);\n",
              "      fill: #174EA6;\n",
              "    }\n",
              "\n",
              "    [theme=dark] .colab-df-convert {\n",
              "      background-color: #3B4455;\n",
              "      fill: #D2E3FC;\n",
              "    }\n",
              "\n",
              "    [theme=dark] .colab-df-convert:hover {\n",
              "      background-color: #434B5C;\n",
              "      box-shadow: 0px 1px 3px 1px rgba(0, 0, 0, 0.15);\n",
              "      filter: drop-shadow(0px 1px 2px rgba(0, 0, 0, 0.3));\n",
              "      fill: #FFFFFF;\n",
              "    }\n",
              "  </style>\n",
              "\n",
              "      <script>\n",
              "        const buttonEl =\n",
              "          document.querySelector('#df-e7c2adec-8de1-4e14-958d-4639c2c5c9b7 button.colab-df-convert');\n",
              "        buttonEl.style.display =\n",
              "          google.colab.kernel.accessAllowed ? 'block' : 'none';\n",
              "\n",
              "        async function convertToInteractive(key) {\n",
              "          const element = document.querySelector('#df-e7c2adec-8de1-4e14-958d-4639c2c5c9b7');\n",
              "          const dataTable =\n",
              "            await google.colab.kernel.invokeFunction('convertToInteractive',\n",
              "                                                     [key], {});\n",
              "          if (!dataTable) return;\n",
              "\n",
              "          const docLinkHtml = 'Like what you see? Visit the ' +\n",
              "            '<a target=\"_blank\" href=https://colab.research.google.com/notebooks/data_table.ipynb>data table notebook</a>'\n",
              "            + ' to learn more about interactive tables.';\n",
              "          element.innerHTML = '';\n",
              "          dataTable['output_type'] = 'display_data';\n",
              "          await google.colab.output.renderOutput(dataTable, element);\n",
              "          const docLink = document.createElement('div');\n",
              "          docLink.innerHTML = docLinkHtml;\n",
              "          element.appendChild(docLink);\n",
              "        }\n",
              "      </script>\n",
              "    </div>\n",
              "  </div>\n",
              "  "
            ]
          },
          "metadata": {},
          "execution_count": 11
        }
      ]
    },
    {
      "cell_type": "markdown",
      "source": [
        "### 2) TFIDF"
      ],
      "metadata": {
        "id": "estY4YvBhFc0"
      }
    },
    {
      "cell_type": "markdown",
      "source": [
        "**Creating bag of words model using TfidfVectorizer function**"
      ],
      "metadata": {
        "id": "0NC3pFSBeodr"
      }
    },
    {
      "cell_type": "code",
      "source": [
        "def tfidf_vec(documents, ngram_range=(1, 1)):\n",
        "    '''\n",
        "    Function to transform a count matrix to a normalized tf or tf-idf representation.\n",
        "    \n",
        "    Args:\n",
        "      documents (list): List of documents\n",
        "      ngram_range (tuple):  word n-grams\n",
        "\n",
        "    '''\n",
        "    vectorizer = TfidfVectorizer(\n",
        "        strip_accents='unicode',    # Remove accents and perform other character normalization during the preprocessing step. \n",
        "        analyzer='word',            # Whether the feature should be made of word or character n-grams.\n",
        "        token_pattern=r'\\w{1,}',    # Regular expression denoting what constitutes a “token”, only used if analyzer == 'word'\n",
        "        ngram_range=ngram_range,         # The lower and upper boundary of the range of n-values for different n-grams to be extracted\n",
        "        stop_words='english')\n",
        "\n",
        "    vectorizer.fit(documents)    # Fiting it on Train\n",
        "    tfid_model = vectorizer.transform(documents)\n",
        "    return vectorizer, tfid_model\n"
      ],
      "metadata": {
        "id": "BhFIddnTK8fi"
      },
      "execution_count": 12,
      "outputs": []
    },
    {
      "cell_type": "code",
      "source": [
        "tfidf_vectorizer, tfidf_model = tfidf_vec(documents)"
      ],
      "metadata": {
        "id": "nqWAJA13eogS"
      },
      "execution_count": 13,
      "outputs": []
    },
    {
      "cell_type": "code",
      "source": [
        "tfidf_model.toarray()"
      ],
      "metadata": {
        "colab": {
          "base_uri": "https://localhost:8080/"
        },
        "id": "zKpl7KZBeoiw",
        "outputId": "265500e9-8a15-4170-8dd2-785207173666"
      },
      "execution_count": 14,
      "outputs": [
        {
          "output_type": "execute_result",
          "data": {
            "text/plain": [
              "array([[0.34142622, 0.        , 0.        , 0.34142622, 0.34142622,\n",
              "        0.25966344, 0.        , 0.        , 0.        , 0.        ,\n",
              "        0.        , 0.34142622, 0.68285244, 0.        , 0.        ],\n",
              "       [0.        , 0.5       , 0.        , 0.        , 0.        ,\n",
              "        0.        , 0.5       , 0.        , 0.        , 0.5       ,\n",
              "        0.5       , 0.        , 0.        , 0.        , 0.        ],\n",
              "       [0.        , 0.        , 0.36977238, 0.        , 0.        ,\n",
              "        0.56244284, 0.        , 0.36977238, 0.36977238, 0.        ,\n",
              "        0.        , 0.        , 0.        , 0.36977238, 0.36977238]])"
            ]
          },
          "metadata": {},
          "execution_count": 14
        }
      ]
    },
    {
      "cell_type": "code",
      "source": [
        "pd.DataFrame(tfidf_model.toarray(), columns = tfidf_vectorizer.get_feature_names_out())"
      ],
      "metadata": {
        "colab": {
          "base_uri": "https://localhost:8080/",
          "height": 187
        },
        "id": "WkjAnmNneolM",
        "outputId": "4382d3b2-e3c7-4fe8-c55c-9f2ad2ce43c5"
      },
      "execution_count": 15,
      "outputs": [
        {
          "output_type": "execute_result",
          "data": {
            "text/plain": [
              "      bihar  depends       fun     gangs     great     movie  music       new  \\\n",
              "0  0.341426      0.0  0.000000  0.341426  0.341426  0.259663    0.0  0.000000   \n",
              "1  0.000000      0.5  0.000000  0.000000  0.000000  0.000000    0.5  0.000000   \n",
              "2  0.000000      0.0  0.369772  0.000000  0.000000  0.562443    0.0  0.369772   \n",
              "\n",
              "   releasing  song  success      town  wasseypur     watch      week  \n",
              "0   0.000000   0.0      0.0  0.341426   0.682852  0.000000  0.000000  \n",
              "1   0.000000   0.5      0.5  0.000000   0.000000  0.000000  0.000000  \n",
              "2   0.369772   0.0      0.0  0.000000   0.000000  0.369772  0.369772  "
            ],
            "text/html": [
              "\n",
              "  <div id=\"df-10ea2035-8634-421c-be54-4896069aff90\">\n",
              "    <div class=\"colab-df-container\">\n",
              "      <div>\n",
              "<style scoped>\n",
              "    .dataframe tbody tr th:only-of-type {\n",
              "        vertical-align: middle;\n",
              "    }\n",
              "\n",
              "    .dataframe tbody tr th {\n",
              "        vertical-align: top;\n",
              "    }\n",
              "\n",
              "    .dataframe thead th {\n",
              "        text-align: right;\n",
              "    }\n",
              "</style>\n",
              "<table border=\"1\" class=\"dataframe\">\n",
              "  <thead>\n",
              "    <tr style=\"text-align: right;\">\n",
              "      <th></th>\n",
              "      <th>bihar</th>\n",
              "      <th>depends</th>\n",
              "      <th>fun</th>\n",
              "      <th>gangs</th>\n",
              "      <th>great</th>\n",
              "      <th>movie</th>\n",
              "      <th>music</th>\n",
              "      <th>new</th>\n",
              "      <th>releasing</th>\n",
              "      <th>song</th>\n",
              "      <th>success</th>\n",
              "      <th>town</th>\n",
              "      <th>wasseypur</th>\n",
              "      <th>watch</th>\n",
              "      <th>week</th>\n",
              "    </tr>\n",
              "  </thead>\n",
              "  <tbody>\n",
              "    <tr>\n",
              "      <th>0</th>\n",
              "      <td>0.341426</td>\n",
              "      <td>0.0</td>\n",
              "      <td>0.000000</td>\n",
              "      <td>0.341426</td>\n",
              "      <td>0.341426</td>\n",
              "      <td>0.259663</td>\n",
              "      <td>0.0</td>\n",
              "      <td>0.000000</td>\n",
              "      <td>0.000000</td>\n",
              "      <td>0.0</td>\n",
              "      <td>0.0</td>\n",
              "      <td>0.341426</td>\n",
              "      <td>0.682852</td>\n",
              "      <td>0.000000</td>\n",
              "      <td>0.000000</td>\n",
              "    </tr>\n",
              "    <tr>\n",
              "      <th>1</th>\n",
              "      <td>0.000000</td>\n",
              "      <td>0.5</td>\n",
              "      <td>0.000000</td>\n",
              "      <td>0.000000</td>\n",
              "      <td>0.000000</td>\n",
              "      <td>0.000000</td>\n",
              "      <td>0.5</td>\n",
              "      <td>0.000000</td>\n",
              "      <td>0.000000</td>\n",
              "      <td>0.5</td>\n",
              "      <td>0.5</td>\n",
              "      <td>0.000000</td>\n",
              "      <td>0.000000</td>\n",
              "      <td>0.000000</td>\n",
              "      <td>0.000000</td>\n",
              "    </tr>\n",
              "    <tr>\n",
              "      <th>2</th>\n",
              "      <td>0.000000</td>\n",
              "      <td>0.0</td>\n",
              "      <td>0.369772</td>\n",
              "      <td>0.000000</td>\n",
              "      <td>0.000000</td>\n",
              "      <td>0.562443</td>\n",
              "      <td>0.0</td>\n",
              "      <td>0.369772</td>\n",
              "      <td>0.369772</td>\n",
              "      <td>0.0</td>\n",
              "      <td>0.0</td>\n",
              "      <td>0.000000</td>\n",
              "      <td>0.000000</td>\n",
              "      <td>0.369772</td>\n",
              "      <td>0.369772</td>\n",
              "    </tr>\n",
              "  </tbody>\n",
              "</table>\n",
              "</div>\n",
              "      <button class=\"colab-df-convert\" onclick=\"convertToInteractive('df-10ea2035-8634-421c-be54-4896069aff90')\"\n",
              "              title=\"Convert this dataframe to an interactive table.\"\n",
              "              style=\"display:none;\">\n",
              "        \n",
              "  <svg xmlns=\"http://www.w3.org/2000/svg\" height=\"24px\"viewBox=\"0 0 24 24\"\n",
              "       width=\"24px\">\n",
              "    <path d=\"M0 0h24v24H0V0z\" fill=\"none\"/>\n",
              "    <path d=\"M18.56 5.44l.94 2.06.94-2.06 2.06-.94-2.06-.94-.94-2.06-.94 2.06-2.06.94zm-11 1L8.5 8.5l.94-2.06 2.06-.94-2.06-.94L8.5 2.5l-.94 2.06-2.06.94zm10 10l.94 2.06.94-2.06 2.06-.94-2.06-.94-.94-2.06-.94 2.06-2.06.94z\"/><path d=\"M17.41 7.96l-1.37-1.37c-.4-.4-.92-.59-1.43-.59-.52 0-1.04.2-1.43.59L10.3 9.45l-7.72 7.72c-.78.78-.78 2.05 0 2.83L4 21.41c.39.39.9.59 1.41.59.51 0 1.02-.2 1.41-.59l7.78-7.78 2.81-2.81c.8-.78.8-2.07 0-2.86zM5.41 20L4 18.59l7.72-7.72 1.47 1.35L5.41 20z\"/>\n",
              "  </svg>\n",
              "      </button>\n",
              "      \n",
              "  <style>\n",
              "    .colab-df-container {\n",
              "      display:flex;\n",
              "      flex-wrap:wrap;\n",
              "      gap: 12px;\n",
              "    }\n",
              "\n",
              "    .colab-df-convert {\n",
              "      background-color: #E8F0FE;\n",
              "      border: none;\n",
              "      border-radius: 50%;\n",
              "      cursor: pointer;\n",
              "      display: none;\n",
              "      fill: #1967D2;\n",
              "      height: 32px;\n",
              "      padding: 0 0 0 0;\n",
              "      width: 32px;\n",
              "    }\n",
              "\n",
              "    .colab-df-convert:hover {\n",
              "      background-color: #E2EBFA;\n",
              "      box-shadow: 0px 1px 2px rgba(60, 64, 67, 0.3), 0px 1px 3px 1px rgba(60, 64, 67, 0.15);\n",
              "      fill: #174EA6;\n",
              "    }\n",
              "\n",
              "    [theme=dark] .colab-df-convert {\n",
              "      background-color: #3B4455;\n",
              "      fill: #D2E3FC;\n",
              "    }\n",
              "\n",
              "    [theme=dark] .colab-df-convert:hover {\n",
              "      background-color: #434B5C;\n",
              "      box-shadow: 0px 1px 3px 1px rgba(0, 0, 0, 0.15);\n",
              "      filter: drop-shadow(0px 1px 2px rgba(0, 0, 0, 0.3));\n",
              "      fill: #FFFFFF;\n",
              "    }\n",
              "  </style>\n",
              "\n",
              "      <script>\n",
              "        const buttonEl =\n",
              "          document.querySelector('#df-10ea2035-8634-421c-be54-4896069aff90 button.colab-df-convert');\n",
              "        buttonEl.style.display =\n",
              "          google.colab.kernel.accessAllowed ? 'block' : 'none';\n",
              "\n",
              "        async function convertToInteractive(key) {\n",
              "          const element = document.querySelector('#df-10ea2035-8634-421c-be54-4896069aff90');\n",
              "          const dataTable =\n",
              "            await google.colab.kernel.invokeFunction('convertToInteractive',\n",
              "                                                     [key], {});\n",
              "          if (!dataTable) return;\n",
              "\n",
              "          const docLinkHtml = 'Like what you see? Visit the ' +\n",
              "            '<a target=\"_blank\" href=https://colab.research.google.com/notebooks/data_table.ipynb>data table notebook</a>'\n",
              "            + ' to learn more about interactive tables.';\n",
              "          element.innerHTML = '';\n",
              "          dataTable['output_type'] = 'display_data';\n",
              "          await google.colab.output.renderOutput(dataTable, element);\n",
              "          const docLink = document.createElement('div');\n",
              "          docLink.innerHTML = docLinkHtml;\n",
              "          element.appendChild(docLink);\n",
              "        }\n",
              "      </script>\n",
              "    </div>\n",
              "  </div>\n",
              "  "
            ]
          },
          "metadata": {},
          "execution_count": 15
        }
      ]
    },
    {
      "cell_type": "code",
      "source": [
        "# def create_wordfreq(corpus):\n",
        "#   wordfreq = {}\n",
        "#   for sentence in corpus:\n",
        "#       tokens = nltk.word_tokenize(sentence)\n",
        "#       for token in tokens:\n",
        "#           if token not in wordfreq.keys():\n",
        "#               wordfreq[token] = 1\n",
        "#           else:\n",
        "#               wordfreq[token] += 1\n",
        "#   return wordfreq\n"
      ],
      "metadata": {
        "id": "RjK3NgE6LMqC"
      },
      "execution_count": 16,
      "outputs": []
    },
    {
      "cell_type": "markdown",
      "source": [
        "## **From Scratch**"
      ],
      "metadata": {
        "id": "Sor6PURBhWdB"
      }
    },
    {
      "cell_type": "code",
      "source": [
        "documents = [preprocess(document) for document in documents]\n",
        "documents"
      ],
      "metadata": {
        "colab": {
          "base_uri": "https://localhost:8080/"
        },
        "id": "5RTBhgDNhWMF",
        "outputId": "a184752a-a3f2-4c7e-b644-5f0302ffdf55"
      },
      "execution_count": 17,
      "outputs": [
        {
          "output_type": "execute_result",
          "data": {
            "text/plain": [
              "['gangs wasseypur great movie . wasseypur town bihar .',\n",
              " 'success song depends music .',\n",
              " 'new movie releasing week . movie fun watch .']"
            ]
          },
          "metadata": {},
          "execution_count": 17
        }
      ]
    },
    {
      "cell_type": "code",
      "source": [
        "corpus_list = list(set([word for document in documents for word in document.split()]))\n",
        "print(corpus_list)"
      ],
      "metadata": {
        "colab": {
          "base_uri": "https://localhost:8080/"
        },
        "id": "5IMtXOR_jgKT",
        "outputId": "e758d1dd-f46a-4402-eca5-b1050e5455d9"
      },
      "execution_count": 18,
      "outputs": [
        {
          "output_type": "stream",
          "name": "stdout",
          "text": [
            "['movie', 'releasing', 'watch', 'music', 'success', 'song', 'bihar', 'wasseypur', 'week', 'gangs', 'depends', 'new', 'great', 'fun', 'town', '.']\n"
          ]
        }
      ]
    },
    {
      "cell_type": "markdown",
      "source": [
        "### 1) BOW"
      ],
      "metadata": {
        "id": "dRJOI6ZJnjM0"
      }
    },
    {
      "cell_type": "code",
      "source": [
        "def bow_scratch(documents, corpus_list):\n",
        "    '''\n",
        "    Function to convert a collection of text documents to a matrix of token counts.\n",
        "    \n",
        "    Args:\n",
        "      documents (list): List of documents\n",
        "      corpus_list (list):  List of unique words\n",
        "\n",
        "    Returns:\n",
        "      np.array: Array\n",
        "    '''\n",
        "\n",
        "    sentence_vectors = [\n",
        "        [1 if token in nltk.word_tokenize(sentence) else 0 for token in corpus_list] \n",
        "        for sentence in documents\n",
        "    ]\n",
        "    return np.asarray(sentence_vectors)"
      ],
      "metadata": {
        "id": "iBiUzAw2oL3J"
      },
      "execution_count": 19,
      "outputs": []
    },
    {
      "cell_type": "code",
      "source": [
        "bow_vect = bow_scratch(documents, corpus_list)\n",
        "bow_vect"
      ],
      "metadata": {
        "colab": {
          "base_uri": "https://localhost:8080/"
        },
        "id": "hktpBs97ld6i",
        "outputId": "2f9ecf0d-7bef-4975-a5ad-51404ca3da0a"
      },
      "execution_count": 20,
      "outputs": [
        {
          "output_type": "execute_result",
          "data": {
            "text/plain": [
              "array([[1, 0, 0, 0, 0, 0, 1, 1, 0, 1, 0, 0, 1, 0, 1, 1],\n",
              "       [0, 0, 0, 1, 1, 1, 0, 0, 0, 0, 1, 0, 0, 0, 0, 1],\n",
              "       [1, 1, 1, 0, 0, 0, 0, 0, 1, 0, 0, 1, 0, 1, 0, 1]])"
            ]
          },
          "metadata": {},
          "execution_count": 20
        }
      ]
    },
    {
      "cell_type": "code",
      "source": [
        "df_bow = pd.DataFrame(bow_vect, columns=corpus_list)\n",
        "df_bow"
      ],
      "metadata": {
        "colab": {
          "base_uri": "https://localhost:8080/",
          "height": 143
        },
        "id": "hG5IsJqlJXV7",
        "outputId": "a7073543-731d-41b5-ca82-4a659b8a7d90"
      },
      "execution_count": 21,
      "outputs": [
        {
          "output_type": "execute_result",
          "data": {
            "text/plain": [
              "   movie  releasing  watch  music  success  song  bihar  wasseypur  week  \\\n",
              "0      1          0      0      0        0     0      1          1     0   \n",
              "1      0          0      0      1        1     1      0          0     0   \n",
              "2      1          1      1      0        0     0      0          0     1   \n",
              "\n",
              "   gangs  depends  new  great  fun  town  .  \n",
              "0      1        0    0      1    0     1  1  \n",
              "1      0        1    0      0    0     0  1  \n",
              "2      0        0    1      0    1     0  1  "
            ],
            "text/html": [
              "\n",
              "  <div id=\"df-5cfd89df-3258-4643-81c9-2148c82a39e6\">\n",
              "    <div class=\"colab-df-container\">\n",
              "      <div>\n",
              "<style scoped>\n",
              "    .dataframe tbody tr th:only-of-type {\n",
              "        vertical-align: middle;\n",
              "    }\n",
              "\n",
              "    .dataframe tbody tr th {\n",
              "        vertical-align: top;\n",
              "    }\n",
              "\n",
              "    .dataframe thead th {\n",
              "        text-align: right;\n",
              "    }\n",
              "</style>\n",
              "<table border=\"1\" class=\"dataframe\">\n",
              "  <thead>\n",
              "    <tr style=\"text-align: right;\">\n",
              "      <th></th>\n",
              "      <th>movie</th>\n",
              "      <th>releasing</th>\n",
              "      <th>watch</th>\n",
              "      <th>music</th>\n",
              "      <th>success</th>\n",
              "      <th>song</th>\n",
              "      <th>bihar</th>\n",
              "      <th>wasseypur</th>\n",
              "      <th>week</th>\n",
              "      <th>gangs</th>\n",
              "      <th>depends</th>\n",
              "      <th>new</th>\n",
              "      <th>great</th>\n",
              "      <th>fun</th>\n",
              "      <th>town</th>\n",
              "      <th>.</th>\n",
              "    </tr>\n",
              "  </thead>\n",
              "  <tbody>\n",
              "    <tr>\n",
              "      <th>0</th>\n",
              "      <td>1</td>\n",
              "      <td>0</td>\n",
              "      <td>0</td>\n",
              "      <td>0</td>\n",
              "      <td>0</td>\n",
              "      <td>0</td>\n",
              "      <td>1</td>\n",
              "      <td>1</td>\n",
              "      <td>0</td>\n",
              "      <td>1</td>\n",
              "      <td>0</td>\n",
              "      <td>0</td>\n",
              "      <td>1</td>\n",
              "      <td>0</td>\n",
              "      <td>1</td>\n",
              "      <td>1</td>\n",
              "    </tr>\n",
              "    <tr>\n",
              "      <th>1</th>\n",
              "      <td>0</td>\n",
              "      <td>0</td>\n",
              "      <td>0</td>\n",
              "      <td>1</td>\n",
              "      <td>1</td>\n",
              "      <td>1</td>\n",
              "      <td>0</td>\n",
              "      <td>0</td>\n",
              "      <td>0</td>\n",
              "      <td>0</td>\n",
              "      <td>1</td>\n",
              "      <td>0</td>\n",
              "      <td>0</td>\n",
              "      <td>0</td>\n",
              "      <td>0</td>\n",
              "      <td>1</td>\n",
              "    </tr>\n",
              "    <tr>\n",
              "      <th>2</th>\n",
              "      <td>1</td>\n",
              "      <td>1</td>\n",
              "      <td>1</td>\n",
              "      <td>0</td>\n",
              "      <td>0</td>\n",
              "      <td>0</td>\n",
              "      <td>0</td>\n",
              "      <td>0</td>\n",
              "      <td>1</td>\n",
              "      <td>0</td>\n",
              "      <td>0</td>\n",
              "      <td>1</td>\n",
              "      <td>0</td>\n",
              "      <td>1</td>\n",
              "      <td>0</td>\n",
              "      <td>1</td>\n",
              "    </tr>\n",
              "  </tbody>\n",
              "</table>\n",
              "</div>\n",
              "      <button class=\"colab-df-convert\" onclick=\"convertToInteractive('df-5cfd89df-3258-4643-81c9-2148c82a39e6')\"\n",
              "              title=\"Convert this dataframe to an interactive table.\"\n",
              "              style=\"display:none;\">\n",
              "        \n",
              "  <svg xmlns=\"http://www.w3.org/2000/svg\" height=\"24px\"viewBox=\"0 0 24 24\"\n",
              "       width=\"24px\">\n",
              "    <path d=\"M0 0h24v24H0V0z\" fill=\"none\"/>\n",
              "    <path d=\"M18.56 5.44l.94 2.06.94-2.06 2.06-.94-2.06-.94-.94-2.06-.94 2.06-2.06.94zm-11 1L8.5 8.5l.94-2.06 2.06-.94-2.06-.94L8.5 2.5l-.94 2.06-2.06.94zm10 10l.94 2.06.94-2.06 2.06-.94-2.06-.94-.94-2.06-.94 2.06-2.06.94z\"/><path d=\"M17.41 7.96l-1.37-1.37c-.4-.4-.92-.59-1.43-.59-.52 0-1.04.2-1.43.59L10.3 9.45l-7.72 7.72c-.78.78-.78 2.05 0 2.83L4 21.41c.39.39.9.59 1.41.59.51 0 1.02-.2 1.41-.59l7.78-7.78 2.81-2.81c.8-.78.8-2.07 0-2.86zM5.41 20L4 18.59l7.72-7.72 1.47 1.35L5.41 20z\"/>\n",
              "  </svg>\n",
              "      </button>\n",
              "      \n",
              "  <style>\n",
              "    .colab-df-container {\n",
              "      display:flex;\n",
              "      flex-wrap:wrap;\n",
              "      gap: 12px;\n",
              "    }\n",
              "\n",
              "    .colab-df-convert {\n",
              "      background-color: #E8F0FE;\n",
              "      border: none;\n",
              "      border-radius: 50%;\n",
              "      cursor: pointer;\n",
              "      display: none;\n",
              "      fill: #1967D2;\n",
              "      height: 32px;\n",
              "      padding: 0 0 0 0;\n",
              "      width: 32px;\n",
              "    }\n",
              "\n",
              "    .colab-df-convert:hover {\n",
              "      background-color: #E2EBFA;\n",
              "      box-shadow: 0px 1px 2px rgba(60, 64, 67, 0.3), 0px 1px 3px 1px rgba(60, 64, 67, 0.15);\n",
              "      fill: #174EA6;\n",
              "    }\n",
              "\n",
              "    [theme=dark] .colab-df-convert {\n",
              "      background-color: #3B4455;\n",
              "      fill: #D2E3FC;\n",
              "    }\n",
              "\n",
              "    [theme=dark] .colab-df-convert:hover {\n",
              "      background-color: #434B5C;\n",
              "      box-shadow: 0px 1px 3px 1px rgba(0, 0, 0, 0.15);\n",
              "      filter: drop-shadow(0px 1px 2px rgba(0, 0, 0, 0.3));\n",
              "      fill: #FFFFFF;\n",
              "    }\n",
              "  </style>\n",
              "\n",
              "      <script>\n",
              "        const buttonEl =\n",
              "          document.querySelector('#df-5cfd89df-3258-4643-81c9-2148c82a39e6 button.colab-df-convert');\n",
              "        buttonEl.style.display =\n",
              "          google.colab.kernel.accessAllowed ? 'block' : 'none';\n",
              "\n",
              "        async function convertToInteractive(key) {\n",
              "          const element = document.querySelector('#df-5cfd89df-3258-4643-81c9-2148c82a39e6');\n",
              "          const dataTable =\n",
              "            await google.colab.kernel.invokeFunction('convertToInteractive',\n",
              "                                                     [key], {});\n",
              "          if (!dataTable) return;\n",
              "\n",
              "          const docLinkHtml = 'Like what you see? Visit the ' +\n",
              "            '<a target=\"_blank\" href=https://colab.research.google.com/notebooks/data_table.ipynb>data table notebook</a>'\n",
              "            + ' to learn more about interactive tables.';\n",
              "          element.innerHTML = '';\n",
              "          dataTable['output_type'] = 'display_data';\n",
              "          await google.colab.output.renderOutput(dataTable, element);\n",
              "          const docLink = document.createElement('div');\n",
              "          docLink.innerHTML = docLinkHtml;\n",
              "          element.appendChild(docLink);\n",
              "        }\n",
              "      </script>\n",
              "    </div>\n",
              "  </div>\n",
              "  "
            ]
          },
          "metadata": {},
          "execution_count": 21
        }
      ]
    },
    {
      "cell_type": "markdown",
      "source": [
        "### 2) TFIDF"
      ],
      "metadata": {
        "id": "0IJlPLrfidL0"
      }
    },
    {
      "cell_type": "code",
      "source": [
        "def get_tf(documents, corpus_list):\n",
        "  '''\n",
        "  Function to get TF.\n",
        "  \n",
        "  Args:\n",
        "    documents (list): List of documents\n",
        "    corpus_list (list):  List of unique words\n",
        "\n",
        "  Returns:\n",
        "    Dataframe with TF\n",
        "  '''\n",
        "\n",
        "  n_docs = len(documents)\n",
        "  n_words_set = len(corpus_list)\n",
        "\n",
        "  df_tf = pd.DataFrame(np.zeros((n_docs, n_words_set)), columns=corpus_list)\n",
        "\n",
        "  for i in range(n_docs):\n",
        "      words = documents[i].split(' ') # Words in the document\n",
        "      for w in words:\n",
        "          df_tf[w][i] = df_tf[w][i] + (1 / len(words))\n",
        "  return df_tf\n",
        "\n",
        "\n",
        "def get_idf(documents, corpus_list):\n",
        "  '''\n",
        "  Function to get IDF.\n",
        "  \n",
        "  Args:\n",
        "    documents (list): List of documents\n",
        "    corpus_list (list):  List of unique words\n",
        "\n",
        "  Returns:\n",
        "    Dict with IDF\n",
        "  '''\n",
        "\n",
        "  idf = {}\n",
        "  n_docs = len(documents)\n",
        "  n_words_set = len(corpus_list)\n",
        " \n",
        "  for w in corpus_list:\n",
        "      k = 0\n",
        "      for i in range(n_docs):\n",
        "          if w in documents[i].split():\n",
        "              k += 1\n",
        "              \n",
        "      idf[w] =  np.log10(n_docs / k)\n",
        "\n",
        "  return idf\n"
      ],
      "metadata": {
        "id": "tq4P1G3LIQEr"
      },
      "execution_count": 22,
      "outputs": []
    },
    {
      "cell_type": "code",
      "source": [
        "df_tf = get_tf(documents, corpus_list)\n",
        "df_tf"
      ],
      "metadata": {
        "colab": {
          "base_uri": "https://localhost:8080/",
          "height": 207
        },
        "id": "0ZCPu3aZIrk7",
        "outputId": "bb36992e-075f-44c5-94f7-e7df6533a7ea"
      },
      "execution_count": 23,
      "outputs": [
        {
          "output_type": "execute_result",
          "data": {
            "text/plain": [
              "      movie  releasing     watch  music  success  song     bihar  wasseypur  \\\n",
              "0  0.111111   0.000000  0.000000    0.0      0.0   0.0  0.111111   0.222222   \n",
              "1  0.000000   0.000000  0.000000    0.2      0.2   0.2  0.000000   0.000000   \n",
              "2  0.222222   0.111111  0.111111    0.0      0.0   0.0  0.000000   0.000000   \n",
              "\n",
              "       week     gangs  depends       new     great       fun      town  \\\n",
              "0  0.000000  0.111111      0.0  0.000000  0.111111  0.000000  0.111111   \n",
              "1  0.000000  0.000000      0.2  0.000000  0.000000  0.000000  0.000000   \n",
              "2  0.111111  0.000000      0.0  0.111111  0.000000  0.111111  0.000000   \n",
              "\n",
              "          .  \n",
              "0  0.222222  \n",
              "1  0.200000  \n",
              "2  0.222222  "
            ],
            "text/html": [
              "\n",
              "  <div id=\"df-745446e6-197e-4ba2-8327-2c35c88c0513\">\n",
              "    <div class=\"colab-df-container\">\n",
              "      <div>\n",
              "<style scoped>\n",
              "    .dataframe tbody tr th:only-of-type {\n",
              "        vertical-align: middle;\n",
              "    }\n",
              "\n",
              "    .dataframe tbody tr th {\n",
              "        vertical-align: top;\n",
              "    }\n",
              "\n",
              "    .dataframe thead th {\n",
              "        text-align: right;\n",
              "    }\n",
              "</style>\n",
              "<table border=\"1\" class=\"dataframe\">\n",
              "  <thead>\n",
              "    <tr style=\"text-align: right;\">\n",
              "      <th></th>\n",
              "      <th>movie</th>\n",
              "      <th>releasing</th>\n",
              "      <th>watch</th>\n",
              "      <th>music</th>\n",
              "      <th>success</th>\n",
              "      <th>song</th>\n",
              "      <th>bihar</th>\n",
              "      <th>wasseypur</th>\n",
              "      <th>week</th>\n",
              "      <th>gangs</th>\n",
              "      <th>depends</th>\n",
              "      <th>new</th>\n",
              "      <th>great</th>\n",
              "      <th>fun</th>\n",
              "      <th>town</th>\n",
              "      <th>.</th>\n",
              "    </tr>\n",
              "  </thead>\n",
              "  <tbody>\n",
              "    <tr>\n",
              "      <th>0</th>\n",
              "      <td>0.111111</td>\n",
              "      <td>0.000000</td>\n",
              "      <td>0.000000</td>\n",
              "      <td>0.0</td>\n",
              "      <td>0.0</td>\n",
              "      <td>0.0</td>\n",
              "      <td>0.111111</td>\n",
              "      <td>0.222222</td>\n",
              "      <td>0.000000</td>\n",
              "      <td>0.111111</td>\n",
              "      <td>0.0</td>\n",
              "      <td>0.000000</td>\n",
              "      <td>0.111111</td>\n",
              "      <td>0.000000</td>\n",
              "      <td>0.111111</td>\n",
              "      <td>0.222222</td>\n",
              "    </tr>\n",
              "    <tr>\n",
              "      <th>1</th>\n",
              "      <td>0.000000</td>\n",
              "      <td>0.000000</td>\n",
              "      <td>0.000000</td>\n",
              "      <td>0.2</td>\n",
              "      <td>0.2</td>\n",
              "      <td>0.2</td>\n",
              "      <td>0.000000</td>\n",
              "      <td>0.000000</td>\n",
              "      <td>0.000000</td>\n",
              "      <td>0.000000</td>\n",
              "      <td>0.2</td>\n",
              "      <td>0.000000</td>\n",
              "      <td>0.000000</td>\n",
              "      <td>0.000000</td>\n",
              "      <td>0.000000</td>\n",
              "      <td>0.200000</td>\n",
              "    </tr>\n",
              "    <tr>\n",
              "      <th>2</th>\n",
              "      <td>0.222222</td>\n",
              "      <td>0.111111</td>\n",
              "      <td>0.111111</td>\n",
              "      <td>0.0</td>\n",
              "      <td>0.0</td>\n",
              "      <td>0.0</td>\n",
              "      <td>0.000000</td>\n",
              "      <td>0.000000</td>\n",
              "      <td>0.111111</td>\n",
              "      <td>0.000000</td>\n",
              "      <td>0.0</td>\n",
              "      <td>0.111111</td>\n",
              "      <td>0.000000</td>\n",
              "      <td>0.111111</td>\n",
              "      <td>0.000000</td>\n",
              "      <td>0.222222</td>\n",
              "    </tr>\n",
              "  </tbody>\n",
              "</table>\n",
              "</div>\n",
              "      <button class=\"colab-df-convert\" onclick=\"convertToInteractive('df-745446e6-197e-4ba2-8327-2c35c88c0513')\"\n",
              "              title=\"Convert this dataframe to an interactive table.\"\n",
              "              style=\"display:none;\">\n",
              "        \n",
              "  <svg xmlns=\"http://www.w3.org/2000/svg\" height=\"24px\"viewBox=\"0 0 24 24\"\n",
              "       width=\"24px\">\n",
              "    <path d=\"M0 0h24v24H0V0z\" fill=\"none\"/>\n",
              "    <path d=\"M18.56 5.44l.94 2.06.94-2.06 2.06-.94-2.06-.94-.94-2.06-.94 2.06-2.06.94zm-11 1L8.5 8.5l.94-2.06 2.06-.94-2.06-.94L8.5 2.5l-.94 2.06-2.06.94zm10 10l.94 2.06.94-2.06 2.06-.94-2.06-.94-.94-2.06-.94 2.06-2.06.94z\"/><path d=\"M17.41 7.96l-1.37-1.37c-.4-.4-.92-.59-1.43-.59-.52 0-1.04.2-1.43.59L10.3 9.45l-7.72 7.72c-.78.78-.78 2.05 0 2.83L4 21.41c.39.39.9.59 1.41.59.51 0 1.02-.2 1.41-.59l7.78-7.78 2.81-2.81c.8-.78.8-2.07 0-2.86zM5.41 20L4 18.59l7.72-7.72 1.47 1.35L5.41 20z\"/>\n",
              "  </svg>\n",
              "      </button>\n",
              "      \n",
              "  <style>\n",
              "    .colab-df-container {\n",
              "      display:flex;\n",
              "      flex-wrap:wrap;\n",
              "      gap: 12px;\n",
              "    }\n",
              "\n",
              "    .colab-df-convert {\n",
              "      background-color: #E8F0FE;\n",
              "      border: none;\n",
              "      border-radius: 50%;\n",
              "      cursor: pointer;\n",
              "      display: none;\n",
              "      fill: #1967D2;\n",
              "      height: 32px;\n",
              "      padding: 0 0 0 0;\n",
              "      width: 32px;\n",
              "    }\n",
              "\n",
              "    .colab-df-convert:hover {\n",
              "      background-color: #E2EBFA;\n",
              "      box-shadow: 0px 1px 2px rgba(60, 64, 67, 0.3), 0px 1px 3px 1px rgba(60, 64, 67, 0.15);\n",
              "      fill: #174EA6;\n",
              "    }\n",
              "\n",
              "    [theme=dark] .colab-df-convert {\n",
              "      background-color: #3B4455;\n",
              "      fill: #D2E3FC;\n",
              "    }\n",
              "\n",
              "    [theme=dark] .colab-df-convert:hover {\n",
              "      background-color: #434B5C;\n",
              "      box-shadow: 0px 1px 3px 1px rgba(0, 0, 0, 0.15);\n",
              "      filter: drop-shadow(0px 1px 2px rgba(0, 0, 0, 0.3));\n",
              "      fill: #FFFFFF;\n",
              "    }\n",
              "  </style>\n",
              "\n",
              "      <script>\n",
              "        const buttonEl =\n",
              "          document.querySelector('#df-745446e6-197e-4ba2-8327-2c35c88c0513 button.colab-df-convert');\n",
              "        buttonEl.style.display =\n",
              "          google.colab.kernel.accessAllowed ? 'block' : 'none';\n",
              "\n",
              "        async function convertToInteractive(key) {\n",
              "          const element = document.querySelector('#df-745446e6-197e-4ba2-8327-2c35c88c0513');\n",
              "          const dataTable =\n",
              "            await google.colab.kernel.invokeFunction('convertToInteractive',\n",
              "                                                     [key], {});\n",
              "          if (!dataTable) return;\n",
              "\n",
              "          const docLinkHtml = 'Like what you see? Visit the ' +\n",
              "            '<a target=\"_blank\" href=https://colab.research.google.com/notebooks/data_table.ipynb>data table notebook</a>'\n",
              "            + ' to learn more about interactive tables.';\n",
              "          element.innerHTML = '';\n",
              "          dataTable['output_type'] = 'display_data';\n",
              "          await google.colab.output.renderOutput(dataTable, element);\n",
              "          const docLink = document.createElement('div');\n",
              "          docLink.innerHTML = docLinkHtml;\n",
              "          element.appendChild(docLink);\n",
              "        }\n",
              "      </script>\n",
              "    </div>\n",
              "  </div>\n",
              "  "
            ]
          },
          "metadata": {},
          "execution_count": 23
        }
      ]
    },
    {
      "cell_type": "code",
      "source": [
        "idf = get_idf(documents, corpus_list)\n",
        "idf"
      ],
      "metadata": {
        "colab": {
          "base_uri": "https://localhost:8080/"
        },
        "id": "LGhXGG_PIvaq",
        "outputId": "5130a03d-db5d-4ca7-938f-aee0913072a4"
      },
      "execution_count": 24,
      "outputs": [
        {
          "output_type": "execute_result",
          "data": {
            "text/plain": [
              "{'movie': 0.17609125905568124,\n",
              " 'releasing': 0.47712125471966244,\n",
              " 'watch': 0.47712125471966244,\n",
              " 'music': 0.47712125471966244,\n",
              " 'success': 0.47712125471966244,\n",
              " 'song': 0.47712125471966244,\n",
              " 'bihar': 0.47712125471966244,\n",
              " 'wasseypur': 0.47712125471966244,\n",
              " 'week': 0.47712125471966244,\n",
              " 'gangs': 0.47712125471966244,\n",
              " 'depends': 0.47712125471966244,\n",
              " 'new': 0.47712125471966244,\n",
              " 'great': 0.47712125471966244,\n",
              " 'fun': 0.47712125471966244,\n",
              " 'town': 0.47712125471966244,\n",
              " '.': 0.0}"
            ]
          },
          "metadata": {},
          "execution_count": 24
        }
      ]
    },
    {
      "cell_type": "code",
      "source": [
        "df_tf_idf = df_tf*idf"
      ],
      "metadata": {
        "id": "lhPzjZGUoOR8"
      },
      "execution_count": 25,
      "outputs": []
    },
    {
      "cell_type": "code",
      "source": [
        "df_tf_idf"
      ],
      "metadata": {
        "colab": {
          "base_uri": "https://localhost:8080/",
          "height": 207
        },
        "id": "0gxvBogKoONn",
        "outputId": "ea44e476-24ca-4962-ab88-a639d94db0b3"
      },
      "execution_count": 26,
      "outputs": [
        {
          "output_type": "execute_result",
          "data": {
            "text/plain": [
              "      movie  releasing     watch     music   success      song     bihar  \\\n",
              "0  0.019566   0.000000  0.000000  0.000000  0.000000  0.000000  0.053013   \n",
              "1  0.000000   0.000000  0.000000  0.095424  0.095424  0.095424  0.000000   \n",
              "2  0.039131   0.053013  0.053013  0.000000  0.000000  0.000000  0.000000   \n",
              "\n",
              "   wasseypur      week     gangs   depends       new     great       fun  \\\n",
              "0   0.106027  0.000000  0.053013  0.000000  0.000000  0.053013  0.000000   \n",
              "1   0.000000  0.000000  0.000000  0.095424  0.000000  0.000000  0.000000   \n",
              "2   0.000000  0.053013  0.000000  0.000000  0.053013  0.000000  0.053013   \n",
              "\n",
              "       town    .  \n",
              "0  0.053013  0.0  \n",
              "1  0.000000  0.0  \n",
              "2  0.000000  0.0  "
            ],
            "text/html": [
              "\n",
              "  <div id=\"df-a6ec5ddd-0ba2-4ee5-906f-d224443e8709\">\n",
              "    <div class=\"colab-df-container\">\n",
              "      <div>\n",
              "<style scoped>\n",
              "    .dataframe tbody tr th:only-of-type {\n",
              "        vertical-align: middle;\n",
              "    }\n",
              "\n",
              "    .dataframe tbody tr th {\n",
              "        vertical-align: top;\n",
              "    }\n",
              "\n",
              "    .dataframe thead th {\n",
              "        text-align: right;\n",
              "    }\n",
              "</style>\n",
              "<table border=\"1\" class=\"dataframe\">\n",
              "  <thead>\n",
              "    <tr style=\"text-align: right;\">\n",
              "      <th></th>\n",
              "      <th>movie</th>\n",
              "      <th>releasing</th>\n",
              "      <th>watch</th>\n",
              "      <th>music</th>\n",
              "      <th>success</th>\n",
              "      <th>song</th>\n",
              "      <th>bihar</th>\n",
              "      <th>wasseypur</th>\n",
              "      <th>week</th>\n",
              "      <th>gangs</th>\n",
              "      <th>depends</th>\n",
              "      <th>new</th>\n",
              "      <th>great</th>\n",
              "      <th>fun</th>\n",
              "      <th>town</th>\n",
              "      <th>.</th>\n",
              "    </tr>\n",
              "  </thead>\n",
              "  <tbody>\n",
              "    <tr>\n",
              "      <th>0</th>\n",
              "      <td>0.019566</td>\n",
              "      <td>0.000000</td>\n",
              "      <td>0.000000</td>\n",
              "      <td>0.000000</td>\n",
              "      <td>0.000000</td>\n",
              "      <td>0.000000</td>\n",
              "      <td>0.053013</td>\n",
              "      <td>0.106027</td>\n",
              "      <td>0.000000</td>\n",
              "      <td>0.053013</td>\n",
              "      <td>0.000000</td>\n",
              "      <td>0.000000</td>\n",
              "      <td>0.053013</td>\n",
              "      <td>0.000000</td>\n",
              "      <td>0.053013</td>\n",
              "      <td>0.0</td>\n",
              "    </tr>\n",
              "    <tr>\n",
              "      <th>1</th>\n",
              "      <td>0.000000</td>\n",
              "      <td>0.000000</td>\n",
              "      <td>0.000000</td>\n",
              "      <td>0.095424</td>\n",
              "      <td>0.095424</td>\n",
              "      <td>0.095424</td>\n",
              "      <td>0.000000</td>\n",
              "      <td>0.000000</td>\n",
              "      <td>0.000000</td>\n",
              "      <td>0.000000</td>\n",
              "      <td>0.095424</td>\n",
              "      <td>0.000000</td>\n",
              "      <td>0.000000</td>\n",
              "      <td>0.000000</td>\n",
              "      <td>0.000000</td>\n",
              "      <td>0.0</td>\n",
              "    </tr>\n",
              "    <tr>\n",
              "      <th>2</th>\n",
              "      <td>0.039131</td>\n",
              "      <td>0.053013</td>\n",
              "      <td>0.053013</td>\n",
              "      <td>0.000000</td>\n",
              "      <td>0.000000</td>\n",
              "      <td>0.000000</td>\n",
              "      <td>0.000000</td>\n",
              "      <td>0.000000</td>\n",
              "      <td>0.053013</td>\n",
              "      <td>0.000000</td>\n",
              "      <td>0.000000</td>\n",
              "      <td>0.053013</td>\n",
              "      <td>0.000000</td>\n",
              "      <td>0.053013</td>\n",
              "      <td>0.000000</td>\n",
              "      <td>0.0</td>\n",
              "    </tr>\n",
              "  </tbody>\n",
              "</table>\n",
              "</div>\n",
              "      <button class=\"colab-df-convert\" onclick=\"convertToInteractive('df-a6ec5ddd-0ba2-4ee5-906f-d224443e8709')\"\n",
              "              title=\"Convert this dataframe to an interactive table.\"\n",
              "              style=\"display:none;\">\n",
              "        \n",
              "  <svg xmlns=\"http://www.w3.org/2000/svg\" height=\"24px\"viewBox=\"0 0 24 24\"\n",
              "       width=\"24px\">\n",
              "    <path d=\"M0 0h24v24H0V0z\" fill=\"none\"/>\n",
              "    <path d=\"M18.56 5.44l.94 2.06.94-2.06 2.06-.94-2.06-.94-.94-2.06-.94 2.06-2.06.94zm-11 1L8.5 8.5l.94-2.06 2.06-.94-2.06-.94L8.5 2.5l-.94 2.06-2.06.94zm10 10l.94 2.06.94-2.06 2.06-.94-2.06-.94-.94-2.06-.94 2.06-2.06.94z\"/><path d=\"M17.41 7.96l-1.37-1.37c-.4-.4-.92-.59-1.43-.59-.52 0-1.04.2-1.43.59L10.3 9.45l-7.72 7.72c-.78.78-.78 2.05 0 2.83L4 21.41c.39.39.9.59 1.41.59.51 0 1.02-.2 1.41-.59l7.78-7.78 2.81-2.81c.8-.78.8-2.07 0-2.86zM5.41 20L4 18.59l7.72-7.72 1.47 1.35L5.41 20z\"/>\n",
              "  </svg>\n",
              "      </button>\n",
              "      \n",
              "  <style>\n",
              "    .colab-df-container {\n",
              "      display:flex;\n",
              "      flex-wrap:wrap;\n",
              "      gap: 12px;\n",
              "    }\n",
              "\n",
              "    .colab-df-convert {\n",
              "      background-color: #E8F0FE;\n",
              "      border: none;\n",
              "      border-radius: 50%;\n",
              "      cursor: pointer;\n",
              "      display: none;\n",
              "      fill: #1967D2;\n",
              "      height: 32px;\n",
              "      padding: 0 0 0 0;\n",
              "      width: 32px;\n",
              "    }\n",
              "\n",
              "    .colab-df-convert:hover {\n",
              "      background-color: #E2EBFA;\n",
              "      box-shadow: 0px 1px 2px rgba(60, 64, 67, 0.3), 0px 1px 3px 1px rgba(60, 64, 67, 0.15);\n",
              "      fill: #174EA6;\n",
              "    }\n",
              "\n",
              "    [theme=dark] .colab-df-convert {\n",
              "      background-color: #3B4455;\n",
              "      fill: #D2E3FC;\n",
              "    }\n",
              "\n",
              "    [theme=dark] .colab-df-convert:hover {\n",
              "      background-color: #434B5C;\n",
              "      box-shadow: 0px 1px 3px 1px rgba(0, 0, 0, 0.15);\n",
              "      filter: drop-shadow(0px 1px 2px rgba(0, 0, 0, 0.3));\n",
              "      fill: #FFFFFF;\n",
              "    }\n",
              "  </style>\n",
              "\n",
              "      <script>\n",
              "        const buttonEl =\n",
              "          document.querySelector('#df-a6ec5ddd-0ba2-4ee5-906f-d224443e8709 button.colab-df-convert');\n",
              "        buttonEl.style.display =\n",
              "          google.colab.kernel.accessAllowed ? 'block' : 'none';\n",
              "\n",
              "        async function convertToInteractive(key) {\n",
              "          const element = document.querySelector('#df-a6ec5ddd-0ba2-4ee5-906f-d224443e8709');\n",
              "          const dataTable =\n",
              "            await google.colab.kernel.invokeFunction('convertToInteractive',\n",
              "                                                     [key], {});\n",
              "          if (!dataTable) return;\n",
              "\n",
              "          const docLinkHtml = 'Like what you see? Visit the ' +\n",
              "            '<a target=\"_blank\" href=https://colab.research.google.com/notebooks/data_table.ipynb>data table notebook</a>'\n",
              "            + ' to learn more about interactive tables.';\n",
              "          element.innerHTML = '';\n",
              "          dataTable['output_type'] = 'display_data';\n",
              "          await google.colab.output.renderOutput(dataTable, element);\n",
              "          const docLink = document.createElement('div');\n",
              "          docLink.innerHTML = docLinkHtml;\n",
              "          element.appendChild(docLink);\n",
              "        }\n",
              "      </script>\n",
              "    </div>\n",
              "  </div>\n",
              "  "
            ]
          },
          "metadata": {},
          "execution_count": 26
        }
      ]
    },
    {
      "cell_type": "markdown",
      "source": [
        "## **N-Grams**"
      ],
      "metadata": {
        "id": "p-m7p-_cNMeA"
      }
    },
    {
      "cell_type": "code",
      "source": [
        "def get_n_grams(sentence, gram=1):\n",
        "  ngrams_list = []\n",
        "  for i in range(len(sentence.split()) - (gram-1)):\n",
        "    ngrams_list.append(\" \".join(sentence.split()[i:i+gram]))\n",
        "  return ngrams_list"
      ],
      "metadata": {
        "id": "MXyNNtXlMQHB"
      },
      "execution_count": 27,
      "outputs": []
    },
    {
      "cell_type": "code",
      "source": [
        "sentence = \"I will go to United States\"\n",
        "ngrams_list = get_n_grams(sentence, gram=2)\n",
        "ngrams_list"
      ],
      "metadata": {
        "colab": {
          "base_uri": "https://localhost:8080/"
        },
        "id": "2V1v5sO4ar4O",
        "outputId": "85a5d53c-901c-4668-ac07-cfbfa486b1ee"
      },
      "execution_count": 28,
      "outputs": [
        {
          "output_type": "execute_result",
          "data": {
            "text/plain": [
              "['I will', 'will go', 'go to', 'to United', 'United States']"
            ]
          },
          "metadata": {},
          "execution_count": 28
        }
      ]
    },
    {
      "cell_type": "code",
      "source": [
        "sentence = \"I will go to United States\"\n",
        "ngrams_list = get_n_grams(sentence, gram=3)\n",
        "ngrams_list"
      ],
      "metadata": {
        "colab": {
          "base_uri": "https://localhost:8080/"
        },
        "id": "SVkUvdWFMhq2",
        "outputId": "a79cc9bc-1c1e-432e-fc92-d4d809b10768"
      },
      "execution_count": 29,
      "outputs": [
        {
          "output_type": "execute_result",
          "data": {
            "text/plain": [
              "['I will go', 'will go to', 'go to United', 'to United States']"
            ]
          },
          "metadata": {},
          "execution_count": 29
        }
      ]
    },
    {
      "cell_type": "code",
      "source": [
        "sentence = \"I will go to United States\"\n",
        "ngrams_list = get_n_grams(sentence, gram=6)\n",
        "ngrams_list"
      ],
      "metadata": {
        "colab": {
          "base_uri": "https://localhost:8080/"
        },
        "id": "ash0zL52OCjF",
        "outputId": "a47c270b-7d0e-4008-efe3-bce089ac9b84"
      },
      "execution_count": 30,
      "outputs": [
        {
          "output_type": "execute_result",
          "data": {
            "text/plain": [
              "['I will go to United States']"
            ]
          },
          "metadata": {},
          "execution_count": 30
        }
      ]
    },
    {
      "cell_type": "code",
      "source": [],
      "metadata": {
        "id": "2_M-KQAMOCsl"
      },
      "execution_count": 30,
      "outputs": []
    }
  ]
}